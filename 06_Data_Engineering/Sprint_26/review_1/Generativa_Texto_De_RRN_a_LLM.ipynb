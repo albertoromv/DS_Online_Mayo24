{
  "cells": [
    {
      "cell_type": "markdown",
      "metadata": {
        "id": "TZ8-spwGrtMI"
      },
      "source": [
        "<img src=\"https://github.com/Jaimegrp/Practicando/blob/main/Texto/img/cabecera.png?raw=1\">"
      ]
    },
    {
      "cell_type": "markdown",
      "metadata": {
        "id": "43dkXdozrtMK"
      },
      "source": [
        "## Una (muy) breve (pero densa) introducción a la IA Generativa en Textos"
      ]
    },
    {
      "cell_type": "markdown",
      "metadata": {
        "id": "i4Tab-WKrtMK"
      },
      "source": [
        "*NOTA: Este notebook adapta y amplía parte del capítulo dedicado a NLP en el excelente libro [Hands on Machine Learning for Python](https://learning.oreilly.com/library/view/hands-on-machine-learning/9781492032632/ch16.html#nlp_chapter)*"
      ]
    },
    {
      "cell_type": "markdown",
      "metadata": {
        "id": "3-TYG-VJrtML"
      },
      "source": [
        "La generación de textos y más que eso el tratamiento de lenguaje natural ha dado un salto \"cuántico\" en los últimos años dentro del campo de la IA. Vamos a ver de una forma poco ortodoxa la evolución partiendo de las arquitecturas más complejas sobre redes recurrentes hasta terminar en los instruct LLM (la base de la IA multimodal generativa actual). Será un viaje denso y breve, pero espero que despierte el interés en ti para ampliar más con el material extra que se proporciona en la plataforma y en algunos enlaces de este notebook."
      ]
    },
    {
      "cell_type": "markdown",
      "metadata": {
        "id": "jTwE2Qu4rtMM"
      },
      "source": [
        "*Antes de empezar, este notebook \"no\" se recomienda si no se ejecuta en un entorno con GPU disponible. Si no es el caso -> Colab:*\n",
        "\n"
      ]
    },
    {
      "cell_type": "markdown",
      "metadata": {
        "id": "OUIn-3_qrtMM"
      },
      "source": [
        "<table align=\"left\">\n",
        "  <td>\n",
        "    <a href=\"https://colab.research.google.com/github/Jaimegrp/DS_Online_Oct23/blob/main/05_Deep_Learning/Sprint_21/02_NLP_y_Texto/Generativa_Texto_De_RRN_a_LLM.ipynb\" target=\"_parent\"><img src=\"https://colab.research.google.com/assets/colab-badge.svg\" alt=\"Open In Colab\"/></a>\n",
        "  </td>\n",
        "</table>"
      ]
    },
    {
      "cell_type": "code",
      "execution_count": 1,
      "metadata": {
        "colab": {
          "base_uri": "https://localhost:8080/"
        },
        "id": "JOQNKhDtrtMN",
        "outputId": "5cf734f1-d3b2-4803-cfa7-754fc562f625"
      },
      "outputs": [
        {
          "name": "stdout",
          "output_type": "stream",
          "text": [
            "Note: not using Google CoLab\n"
          ]
        }
      ],
      "source": [
        "try:\n",
        "    from google.colab import drive\n",
        "    drive.mount('/content/drive', force_remount=True)\n",
        "    COLAB = True\n",
        "    print(\"Note: using Google CoLab\")\n",
        "    %tensorflow_version 2.x\n",
        "except:\n",
        "    print(\"Note: not using Google CoLab\")\n",
        "    COLAB = False"
      ]
    },
    {
      "cell_type": "code",
      "execution_count": 1,
      "metadata": {
        "id": "XXGCfC43rtMN"
      },
      "outputs": [],
      "source": [
        "import sys\n",
        "\n",
        "assert sys.version_info >= (3, 7)"
      ]
    },
    {
      "cell_type": "code",
      "execution_count": 2,
      "metadata": {
        "id": "gCHANlswrtMO"
      },
      "outputs": [],
      "source": [
        "from packaging import version\n",
        "import sklearn\n",
        "\n",
        "assert version.parse(sklearn.__version__) >= version.parse(\"1.0.1\")"
      ]
    },
    {
      "cell_type": "code",
      "execution_count": 3,
      "metadata": {
        "id": "Rg025n4NrtMO"
      },
      "outputs": [],
      "source": [
        "import tensorflow as tf\n",
        "\n",
        "assert version.parse(tf.__version__) >= version.parse(\"2.8.0\")"
      ]
    },
    {
      "cell_type": "code",
      "execution_count": 4,
      "metadata": {
        "id": "6pZ5hfvkrtMP"
      },
      "outputs": [],
      "source": [
        "import numpy as np\n",
        "import matplotlib.pyplot as plt\n",
        "import pandas as pd\n",
        "\n",
        "from collections import Counter\n",
        "from IPython.display import clear_output\n",
        "from pathlib import Path\n",
        "from random import random, randint,sample\n",
        "from time import time, sleep\n",
        "\n",
        "\n",
        "plt.rc('font', size=14)\n",
        "plt.rc('axes', labelsize=14, titlesize=14)\n",
        "plt.rc('legend', fontsize=14)\n",
        "plt.rc('xtick', labelsize=10)\n",
        "plt.rc('ytick', labelsize=10)"
      ]
    },
    {
      "cell_type": "code",
      "execution_count": 5,
      "metadata": {
        "id": "oqYnbmiRrtMP"
      },
      "outputs": [],
      "source": [
        "if not tf.config.list_physical_devices('GPU'):\n",
        "    print(\"No GPU was detected. Neural nets can be very slow without a GPU.\")\n",
        "    if \"google.colab\" in sys.modules:\n",
        "        print(\"Go to Runtime > Change runtime and select a GPU hardware \"\n",
        "              \"accelerator.\")\n",
        "    if \"kaggle_secrets\" in sys.modules:\n",
        "        print(\"Go to Settings > Accelerator and select GPU.\")"
      ]
    },
    {
      "cell_type": "markdown",
      "metadata": {
        "id": "XDnv_Sx0rtMP"
      },
      "source": [
        "## Usando RNNs: Una estructura Encoder-Decoder para traducir de inglés a español"
      ]
    },
    {
      "cell_type": "markdown",
      "metadata": {
        "id": "qBcIBBUArtMP"
      },
      "source": [
        "El primer gran avance por encima de la vectorización y las técnicas iniciales de resumen (summarization), traducción (translation), preguntas y respuestas (Q&A), es el empleo de redes recurrentes en el tratamiento de textos. Veamos un ejemplo."
      ]
    },
    {
      "cell_type": "markdown",
      "metadata": {
        "id": "HiDAs2-VrtMP"
      },
      "source": [
        "El objetivo del siguiente ejemplo es doble:  \n",
        "1. Mostrar como las redes recurrentes pueden configurarse para tratar un problema de traducción donde a una secuencia de entrada de longitud variable le corresponderá una secuencia de longitud variable y además no necesariamente coincidente, en dicha longitud, con la de entrada. Este problema se aplica a la traducción de inglés a español pero es un esquema que se puede emplear en cualquier tipo de cambio de representación entre secuencias (yes, para pasar de una secuencia a una imagen y viceversa).  \n",
        "\n",
        "2. Introducir de forma progresiva el concepto de Atention (atención) para mejorar el modelo anterior y sobre este la arquitectura conocida como Transformers, que nos permitirá hablar de GPT, BERT y los LLN (Large Language Models, no Master of Laws, ojo) en general."
      ]
    },
    {
      "cell_type": "markdown",
      "metadata": {
        "id": "MQ81WAyHrtMQ"
      },
      "source": [
        "### El dataset de entrenamiento"
      ]
    },
    {
      "cell_type": "markdown",
      "metadata": {
        "id": "Kh3YfbK_rtMQ"
      },
      "source": [
        "Utilizaremos un datset que empareja palabras y frases en inglés con sus traducciones al español de Tensorflow"
      ]
    },
    {
      "cell_type": "code",
      "execution_count": 4,
      "metadata": {
        "id": "EhfQe-d36cTe"
      },
      "outputs": [],
      "source": [
        "import numpy as np\n",
        "np.random.seed(42)"
      ]
    },
    {
      "cell_type": "code",
      "execution_count": 6,
      "metadata": {
        "colab": {
          "base_uri": "https://localhost:8080/"
        },
        "id": "Kry1EyVWrtMQ",
        "outputId": "743e3ce5-ce28-46d9-c03e-b900a142e91a"
      },
      "outputs": [
        {
          "name": "stdout",
          "output_type": "stream",
          "text": [
            "Downloading data from https://storage.googleapis.com/download.tensorflow.org/data/spa-eng.zip\n",
            "\u001b[1m2638744/2638744\u001b[0m \u001b[32m━━━━━━━━━━━━━━━━━━━━\u001b[0m\u001b[37m\u001b[0m \u001b[1m0s\u001b[0m 0us/step\n"
          ]
        }
      ],
      "source": [
        "url = \"https://storage.googleapis.com/download.tensorflow.org/data/spa-eng.zip\"\n",
        "path = tf.keras.utils.get_file(\"spa-eng.zip\", origin=url, cache_dir=\"datasets\",\n",
        "                               extract=True)\n",
        "text = (Path(path).with_name(\"spa-eng\") / \"spa.txt\").read_text(encoding = \"utf-8\")"
      ]
    },
    {
      "cell_type": "markdown",
      "metadata": {
        "id": "emipPlQartMQ"
      },
      "source": [
        "Observamos su contenido (siempre hay que mirar la mercancía antes de ponerse a cocinar)"
      ]
    },
    {
      "cell_type": "code",
      "execution_count": 7,
      "metadata": {
        "colab": {
          "base_uri": "https://localhost:8080/"
        },
        "id": "8PsOOYjNrtMQ",
        "outputId": "5cba5146-0357-43e1-9601-1a823b69fe4e"
      },
      "outputs": [
        {
          "name": "stdout",
          "output_type": "stream",
          "text": [
            "Go.\tVe.\n",
            "Go.\tVete.\n",
            "Go.\tVaya.\n",
            "Go.\tVáyase.\n",
            "Hi.\tHola.\n",
            "Run!\t¡Corre!\n",
            "Run.\tCorred.\n",
            "Who?\t¿Quién?\n",
            "Fire!\t¡Fueg\n"
          ]
        }
      ],
      "source": [
        "print(text[:100])"
      ]
    },
    {
      "cell_type": "code",
      "execution_count": 61,
      "metadata": {
        "colab": {
          "base_uri": "https://localhost:8080/",
          "height": 139
        },
        "id": "P8CXept6nklu",
        "outputId": "57c23e9a-ca15-406e-d20a-8b3db4ac5d11"
      },
      "outputs": [
        {
          "data": {
            "application/vnd.google.colaboratory.intrinsic+json": {
              "type": "string"
            },
            "text/plain": [
              "'or correo electrónico las URL\\'s de esas páginas web y ver el contenido en tu computadora cuando llegas a casa.\\nA mistake young people often make is to start learning too many languages at the same time, as they underestimate the difficulties and overestimate their own ability to learn them.\\tUn error que cometen a menudo los jóvenes es el de comenzar a aprender demasiadas lenguas al mismo tiempo, porque subestiman sus dificultades y sobrestiman sus propias capacidades para aprenderlas.\\nNo matter how much you try to convince people that chocolate is vanilla, it\\'ll still be chocolate, even though you may manage to convince yourself and a few others that it\\'s vanilla.\\tNo importa cuánto insistas en convencer a la gente de que el chocolate es vainilla, seguirá siendo chocolate, aunque puede que te convenzas a ti mismo y a algunos otros de que es vainilla.\\nIn 1969, Roger Miller recorded a song called \"You Don\\'t Want My Love.\" Today, this song is better known as \"In the Summer Time.\" It\\'s the first song he wrote and sang that became popular.\\tEn 1969, Roger Miller grabó una canción llamada \"Tú no quieres mi amor\". Hoy, esta canción es más conocida como \"En el verano\". Es la primera canción que escribió y cantó que se convirtió popular.\\nA child who is a native speaker usually knows many things about his or her language that a non-native speaker who has been studying for years still does not know and perhaps will never know.\\tUn niño que es hablante nativo normalmente sabe muchas cosas acerca de su lengua que un hablante no nativo que lo haya estado estudiando durante muchos años no sabe todavía y que quizá no sabrá nunca.\\nThere are four main causes of alcohol-related death. Injury from car accidents or violence is one. Diseases like cirrhosis of the liver, cancer, heart and blood system diseases are the others.\\tHay cuatro causas principales de muertes relacionadas con el alcohol. Lesión por un accidente automovilístico o violencia es una. Enfermedades como cirrosis del hígado, cáncer, enfermedades del corazón y del sistema circulatorio son las otras.\\nThere are mothers and fathers who will lie awake after the children fall asleep and wonder how they\\'ll make the mortgage, or pay their doctor\\'s bills, or save enough for their child\\'s college education.\\tHay madres y padres que se quedan despiertos después de que sus hijos se hayan dormido y se preguntan cómo conseguir pagar la hipoteca o las facturas del médico, o cómo ahorrar el suficiente dinero para la educación universitaria de sus hijos.\\nA carbon footprint is the amount of carbon dioxide pollution that we produce as a result of our activities. Some people try to reduce their carbon footprint because they are concerned about climate change.\\tUna huella de carbono es la cantidad de contaminación de dióxido de carbono que producimos como producto de nuestras actividades. Algunas personas intentan reducir su huella de carbono porque están preocupados acerca del cambio climático.\\nSince there are usually multiple websites on any given topic, I usually just click the back button when I arrive on any webpage that has pop-up advertising. I just go to the next page found by Google and hope for something less irritating.\\tComo suele haber varias páginas web sobre cualquier tema, normalmente sólo le doy al botón de retroceso cuando entro en una página web que tiene anuncios en ventanas emergentes. Simplemente voy a la siguiente página encontrada por Google y espero encontrar algo menos irritante.\\nIf you want to sound like a native speaker, you must be willing to practice saying the same sentence over and over in the same way that banjo players practice the same phrase over and over until they can play it correctly and at the desired tempo.\\tSi quieres sonar como un hablante nativo, debes estar dispuesto a practicar diciendo la misma frase una y otra vez de la misma manera en que un músico de banjo practica el mismo fraseo una y otra vez hasta que lo puedan tocar correctamente y en el tiempo esperado.\\n'"
            ]
          },
          "execution_count": 61,
          "metadata": {},
          "output_type": "execute_result"
        }
      ],
      "source": [
        "text[-4000:]"
      ]
    },
    {
      "cell_type": "markdown",
      "metadata": {
        "id": "34GsOC45rtMQ"
      },
      "source": [
        "Lo transformamos para que sea una relación de secuencia a secuencia (dada una secuencia tenemos su target)"
      ]
    },
    {
      "cell_type": "code",
      "execution_count": 8,
      "metadata": {
        "id": "o8hoHlQwrtMR"
      },
      "outputs": [],
      "source": [
        "import numpy as np\n",
        "\n",
        "text = text.replace(\"¡\", \"\").replace(\"¿\", \"\")\n",
        "pairs = [line.split(\"\\t\") for line in text.splitlines()]\n",
        "np.random.shuffle(pairs)\n",
        "sentences_en, sentences_es = zip(*pairs)  # separa las parejas en dos listas\n"
      ]
    },
    {
      "cell_type": "code",
      "execution_count": 9,
      "metadata": {
        "colab": {
          "base_uri": "https://localhost:8080/",
          "height": 621
        },
        "id": "hr6GoqdzuVq9",
        "outputId": "d247df0b-56e5-44df-d7ac-4aa3123e7df8"
      },
      "outputs": [
        {
          "name": "stdout",
          "output_type": "stream",
          "text": [
            "Tenemos 118964 sentencias para entrenar\n",
            "Distribuciones del corpus en inglés\n",
            "count    118964.000000\n",
            "mean          6.310363\n",
            "std           2.611586\n",
            "min           1.000000\n",
            "25%           4.000000\n",
            "50%           6.000000\n",
            "75%           8.000000\n",
            "max          47.000000\n",
            "dtype: float64\n"
          ]
        },
        {
          "data": {
            "image/png": "[encoded data removed]",
            "text/plain": [
              "<Figure size 640x480 with 1 Axes>"
            ]
          },
          "metadata": {},
          "output_type": "display_data"
        }
      ],
      "source": [
        "print(f\"Tenemos {len(sentences_en)} sentencias para entrenar\")\n",
        "print(\"Distribuciones del corpus en inglés\")\n",
        "series_en = pd.Series([len(sentencia.split()) for sentencia in sentences_en])\n",
        "series_en.hist();\n",
        "print(series_en.describe())"
      ]
    },
    {
      "cell_type": "code",
      "execution_count": 10,
      "metadata": {
        "colab": {
          "base_uri": "https://localhost:8080/",
          "height": 604
        },
        "id": "pPbLpRYru4F3",
        "outputId": "c927ba0c-0f86-488f-8bce-58dc59f9aa91"
      },
      "outputs": [
        {
          "name": "stdout",
          "output_type": "stream",
          "text": [
            "Distribuciones del corpus en español\n",
            "count    118964.000000\n",
            "mean          6.083866\n",
            "std           2.764452\n",
            "min           1.000000\n",
            "25%           4.000000\n",
            "50%           6.000000\n",
            "75%           7.000000\n",
            "max          49.000000\n",
            "dtype: float64\n"
          ]
        },
        {
          "data": {
            "image/png": "[encoded data removed]",
            "text/plain": [
              "<Figure size 640x480 with 1 Axes>"
            ]
          },
          "metadata": {},
          "output_type": "display_data"
        }
      ],
      "source": [
        "print(\"Distribuciones del corpus en español\")\n",
        "series_es = pd.Series([len(sentencia.split()) for sentencia in sentences_es])\n",
        "series_es.hist();\n",
        "print(series_es.describe())"
      ]
    },
    {
      "cell_type": "code",
      "execution_count": 11,
      "metadata": {
        "colab": {
          "base_uri": "https://localhost:8080/"
        },
        "id": "Wiqv5UaVrtMR",
        "outputId": "31f6567b-a081-4750-fbae-6d80311e4b8c"
      },
      "outputs": [
        {
          "name": "stdout",
          "output_type": "stream",
          "text": [
            "She is famous as a singer.(6), '=>', Ella es una cantante famosa.(5)\n",
            "She is a most gracious neighbor.(6), '=>', Ella es una vecina de lo más amable.(8)\n",
            "I thought you were going to keep Tom here until I got back.(13), '=>', Pensé que mantendrías a Tom aquí hasta que yo regresara.(10)\n"
          ]
        }
      ],
      "source": [
        "origen = randint(0,len(sentences_es)-3)\n",
        "for i in range(origen, origen+3):\n",
        "    print(f\"{sentences_en[i]}({len(sentences_en[i].split())}), '=>', {sentences_es[i]}({len(sentences_es[i].split())})\")"
      ]
    },
    {
      "cell_type": "markdown",
      "metadata": {
        "id": "INrVVj9_rtMR"
      },
      "source": [
        "### ENCODER-DECODER"
      ]
    },
    {
      "cell_type": "markdown",
      "metadata": {
        "id": "J_pkKlb_rtMR"
      },
      "source": [
        "Antes de introducir encoder-decoder teníamos este tipo de arquitectura:\n",
        "\n",
        "![imagen](./data/foto2.png)\n"
      ]
    },
    {
      "cell_type": "markdown",
      "metadata": {},
      "source": [
        "Encoder-decoder, ¡tamanño de entrada y de salida distinto!\n",
        "\n",
        "![imagen](./data/foto3.png)"
      ]
    },
    {
      "cell_type": "markdown",
      "metadata": {},
      "source": [
        "![imagen](./data/foto4.png)\n",
        "\n",
        "Cuando return_sequences está a False, la salida es el último estado oculto."
      ]
    },
    {
      "cell_type": "markdown",
      "metadata": {},
      "source": [
        "![imagen](./data/foto5.png)"
      ]
    },
    {
      "cell_type": "markdown",
      "metadata": {},
      "source": [
        "![imagen](./data/foto6.png)"
      ]
    },
    {
      "cell_type": "markdown",
      "metadata": {
        "id": "8K6q_NP-rtMR"
      },
      "source": [
        "Y, ¿por qué esta arquitectura? Porque antes de que se propusiese no había forma de entrenar modelos que admitiesen secuencias de longitud variable con target otra secuencia de longitud variable (y por tanto pudiendo ser esa longitud diferente a la primera)"
      ]
    },
    {
      "cell_type": "markdown",
      "metadata": {
        "id": "CGjjpK26rtMR"
      },
      "source": [
        "El encoder ahora se encarga de convertir cualquier secuencia que haya a la entrada en un vector de longitud fija y el decoder convertira este vector en una secuencia de salida de longitud variable.  \n",
        "\n",
        "De hecho al encoder le vamos a dar de comer secuencias de longitud fija pero lo suficientemente larga como para que entren todas, y aplicaremos el truco del padding para completar y el de la máscara para que no le afecte a las secuencias cortas."
      ]
    },
    {
      "cell_type": "markdown",
      "metadata": {
        "id": "__amabJsrtMS"
      },
      "source": [
        "Entre el encoder y el ecoder se puede pasar el vector repetido o la salida del estado de memoria (otra implementación diferente, como se muestra a continuación)."
      ]
    },
    {
      "cell_type": "markdown",
      "metadata": {
        "id": "eLiJdIRZrtMS"
      },
      "source": [
        "<img src=\"https://github.com/Jaimegrp/Practicando/blob/main/Texto/img/encoder_decoder_to_train.jpg?raw=1\" alt=\"Diagram of encoder_decoder\" width=\"600\" />"
      ]
    },
    {
      "cell_type": "markdown",
      "metadata": {
        "id": "tYk-xYBOrtMS"
      },
      "source": [
        "Mejor si lo desenrrollamos:\n",
        "\n",
        "<img src=\"img/encoder_decoder_unrolled.jpg\" alt=\"Diagram of encoder_decoder\" width=\"600\" />"
      ]
    },
    {
      "cell_type": "markdown",
      "metadata": {
        "id": "XpCMaENGrtMS"
      },
      "source": [
        "Veamos como funcionaría (en entrenamiento) [*nota: h y c son los hidden_state de la recurrente del encoder, $h_d$ y $c_d$ son los hidden_state de la recurrente del decoder*]:\n",
        "1. Al enconder le damos la secuencia [I, like, soccer], y no le va a pasar nada todavía al encoder...\n",
        "2. Hace el embedding, supongamos que de 2 dimensiones, [ (0.212,-3.32), (1.34, 0.344), (6.665,-4.443)]\n",
        "3. Procesa la secuencia uno a uno y va transmitiendose el hidden_state ( y la cell_state, es una LSTM) en cada elemento de la secuencia:\n",
        "    Procesa: e0: [(0.212,-3.32),(0,0,...0),(0,0.....)]\n",
        "    Procesa: e1: [(1.34,0.344), h([(0.212,-3.32),(0,0,...0),(0,0.....)]),c((0.212,-3.32),(0,0,...0),(0,0.....))] (recordad que las LSTM tienen dos estados ocultos h y c el primero en teoría para la memoria a corto y el segundo para la memoria a largo)\n",
        "    Procesa: e2 [(6.665, -4.443), h(e1), c(1)]\n",
        "4. Ahora sí devuelve [salida(e2),h(e2),c(2)] y esto es parte de lo que entra en el Decoder\n",
        "5. El decoder a la vez ha hecho el embedding de su entrada [emb(\"\\<sos\\>\"),emb(\"Me\"),emb(\"gusta\"),emb(\"el\"),emb(\"fútbol\")]\n",
        "5. Lo primero que procesa el decoder es d1: [h(e2),c(e2),emb(\"\\<sos\\>\")] y la capa de salida predice (en el caso de la figura) \"me\"  \n",
        "6. Luego procesa d2: [emb(\"Me\"),$h_d$(d1),$c_d$(d1)] y la capa de salida predice (en este caso): \"encanta\"\n",
        "7. procesa d3: [emb(\"gusta\"),$h_d$(d2),$c_d$(d2)] y la capa de salida predice: \"el\" (Importante, le entra el embedding de la palabra que tendría que haber predicho antes (\"gusta\") no la que realmente predijo \"encanta\", esto es *Teaching Forcing*)\n",
        "8. procesa d4: [emb(\"el\"),$h_d$(d3),$c_d$(d3)] y la capa de salida predice: \"fútbol\"\n",
        "9. procesa d5: [emb(\"fútbol\"),$h_d$(d4),$c_d$(4)] y la capa de salida predice: \"\\<eos\\>\" (end of sequence) (podría haber hecho la predicción de otra palabra y hubiera acabado igual pero se contabilizaría como un error para el optimizador, etc, etc)\n",
        "10. Se acaba la secuencia de entrada para el decoder\n",
        "\n",
        "A destacar:\n",
        "- El encoder sólo le pasara los hidden_state (h y c) del final de la secuencia de entrada al decoder o un vector repetido.\n",
        "- El decoder trabaja sobre el target completo desplazado una vez (esto nos sirve para construir el vec2seq), sino, habría que usar TimeDistributed (porque no predecimos solo una palabra).\n",
        "\n"
      ]
    },
    {
      "cell_type": "markdown",
      "metadata": {
        "id": "g8ADOrEjrtMS"
      },
      "source": [
        "### Construcción del modelo"
      ]
    },
    {
      "cell_type": "markdown",
      "metadata": {
        "id": "i-mpvJODrtMS"
      },
      "source": [
        "Ok, ahora que todo ha quedado clarito como la teoría de la relatividad, vamos a construir el modelo.  \n",
        "Primero las capas de embeddings: como ya hemos visto primero nuestros vectorizadores para convertir cada sentencia en secuencia de índices y después la capa de embedding para que aprenda cual es la mejor reprensentación de cada índice/palabra en el contexto del problema que estamos resolviendo. (De hecho, ***inciso: ¿qué es lo que realmente está haciendo el encoder...***, *se te ocurre qué podríamos hacer con el encoder una vez entrenado todo el modelo...*)"
      ]
    },
    {
      "cell_type": "code",
      "execution_count": 12,
      "metadata": {
        "id": "luUMMVZ0rtMS"
      },
      "outputs": [],
      "source": [
        "vocab_size = 1000 # Número de tokens de nuestro vocabulario, en este caso vamos a hacer que token = (conjunto caracteres separados por espacios)\n",
        "max_length = 50 # Las secuencias de entrada están fijadas a 50, podríamos haberlas fijado a...\n",
        "text_vec_layer_en = tf.keras.layers.TextVectorization(\n",
        "    vocab_size, output_sequence_length=max_length) # Como no decimos nada split=\"whitespace\", o sea la tokenizacion mencionada\n",
        "text_vec_layer_es = tf.keras.layers.TextVectorization(\n",
        "    vocab_size, output_sequence_length=max_length)\n",
        "text_vec_layer_en.adapt(sentences_en)\n",
        "text_vec_layer_es.adapt([f\"startofseq {s} endofseq\" for s in sentences_es]) # Importante le añadimos el comienzo de secuencia y el final para que sepa dónde empieza y para que aprenda cuándo se acaba"
      ]
    },
    {
      "cell_type": "code",
      "execution_count": 13,
      "metadata": {
        "colab": {
          "base_uri": "https://localhost:8080/"
        },
        "id": "GxiguIiTrtMT",
        "outputId": "664ee392-ae9c-464d-d4f9-b87fb759a185"
      },
      "outputs": [
        {
          "data": {
            "text/plain": [
              "['', '[UNK]', 'the', 'i', 'to', 'you', 'tom', 'a', 'is', 'he']"
            ]
          },
          "execution_count": 13,
          "metadata": {},
          "output_type": "execute_result"
        }
      ],
      "source": [
        "text_vec_layer_en.get_vocabulary()[:10]"
      ]
    },
    {
      "cell_type": "code",
      "execution_count": 14,
      "metadata": {
        "colab": {
          "base_uri": "https://localhost:8080/"
        },
        "id": "CRDoz0NOrtMT",
        "outputId": "b32e38b5-18a6-4dbb-d28b-f7329143244f"
      },
      "outputs": [
        {
          "data": {
            "text/plain": [
              "['', '[UNK]', 'startofseq', 'endofseq', 'de', 'que', 'a', 'no', 'tom', 'la']"
            ]
          },
          "execution_count": 14,
          "metadata": {},
          "output_type": "execute_result"
        }
      ],
      "source": [
        "text_vec_layer_es.get_vocabulary()[:10]"
      ]
    },
    {
      "cell_type": "markdown",
      "metadata": {
        "id": "XKXkImlH5Sdd"
      },
      "source": [
        "Veamos cómo codifica algunas de las setencias:"
      ]
    },
    {
      "cell_type": "code",
      "execution_count": 15,
      "metadata": {
        "colab": {
          "base_uri": "https://localhost:8080/"
        },
        "id": "BH1Nz_po5iV4",
        "outputId": "2c4764a1-b251-4fa0-ed52-b614847c5d39"
      },
      "outputs": [
        {
          "name": "stdout",
          "output_type": "stream",
          "text": [
            "It snowed yesterday.(3), '=>', Ayer nevó.(2)\n",
            "Vectorizacion sin embedding de la entrada al encoder\n",
            "tf.Tensor(\n",
            "[ 13   1 181   0   0   0   0   0   0   0   0   0   0   0   0   0   0   0\n",
            "   0   0   0   0   0   0   0   0   0   0   0   0   0   0   0   0   0   0\n",
            "   0   0   0   0   0   0   0   0   0   0   0   0   0   0], shape=(50,), dtype=int64)\n",
            "Vectorizacion sin embedding de la entrada al decoder\n",
            "tf.Tensor(\n",
            "[  2 144   1   0   0   0   0   0   0   0   0   0   0   0   0   0   0   0\n",
            "   0   0   0   0   0   0   0   0   0   0   0   0   0   0   0   0   0   0\n",
            "   0   0   0   0   0   0   0   0   0   0   0   0   0   0], shape=(50,), dtype=int64)\n",
            "Vectorizacion del target\n",
            "tf.Tensor(\n",
            "[144   1   3   0   0   0   0   0   0   0   0   0   0   0   0   0   0   0\n",
            "   0   0   0   0   0   0   0   0   0   0   0   0   0   0   0   0   0   0\n",
            "   0   0   0   0   0   0   0   0   0   0   0   0   0   0], shape=(50,), dtype=int64)\n"
          ]
        }
      ],
      "source": [
        "origen = randint(0,len(sentences_es)-3)\n",
        "for i in range(origen, origen+1):\n",
        "    print(f\"{sentences_en[i]}({len(sentences_en[i].split())}), '=>', {sentences_es[i]}({len(sentences_es[i].split())})\")\n",
        "    print(\"Vectorizacion sin embedding de la entrada al encoder\",text_vec_layer_en(sentences_en[i]), sep = \"\\n\")\n",
        "    print(\"Vectorizacion sin embedding de la entrada al decoder\", text_vec_layer_es(f\"startofseq {sentences_es[i]}\"), sep = \"\\n\")\n",
        "    print(\"Vectorizacion del target\", text_vec_layer_es(f\"{sentences_es[i]} endofseq\"), sep = \"\\n\")"
      ]
    },
    {
      "cell_type": "markdown",
      "metadata": {
        "id": "AGVInDEhrtMT"
      },
      "source": [
        "Construímos los datasets de entrenamiento y validación, teniendo encuenta que encoder y decoder reciben entradas ligeramente diferentes y que el targert debe contener el endofseq (que es un token que debe predecir el modelo, es decir debe predecir cuando acaba la frase)"
      ]
    },
    {
      "cell_type": "code",
      "execution_count": 16,
      "metadata": {
        "id": "6-vrcZDyrtMT"
      },
      "outputs": [],
      "source": [
        "X_train = tf.constant(sentences_en[:100_000])\n",
        "X_valid = tf.constant(sentences_en[100_000:])\n",
        "X_train_dec = tf.constant([f\"startofseq {s}\" for s in sentences_es[:100_000]])\n",
        "X_valid_dec = tf.constant([f\"startofseq {s}\" for s in sentences_es[100_000:]])\n",
        "Y_train = text_vec_layer_es([f\"{s} endofseq\" for s in sentences_es[:100_000]])\n",
        "Y_valid = text_vec_layer_es([f\"{s} endofseq\" for s in sentences_es[100_000:]])"
      ]
    },
    {
      "cell_type": "code",
      "execution_count": 19,
      "metadata": {
        "id": "PM7qi61-eh9z"
      },
      "outputs": [],
      "source": [
        "from keras.layers import RepeatVector"
      ]
    },
    {
      "cell_type": "code",
      "execution_count": 23,
      "metadata": {
        "colab": {
          "base_uri": "https://localhost:8080/",
          "height": 519
        },
        "id": "aZt8_NX7bOuH",
        "outputId": "ab468fab-6ece-4026-a168-f1a7d849e901"
      },
      "outputs": [
        {
          "data": {
            "text/html": [
              "<pre style=\"white-space:pre;overflow-x:auto;line-height:normal;font-family:Menlo,'DejaVu Sans Mono',consolas,'Courier New',monospace\"><span style=\"font-weight: bold\">Model: \"functional\"</span>\n",
              "</pre>\n"
            ],
            "text/plain": [
              "\u001b[1mModel: \"functional\"\u001b[0m\n"
            ]
          },
          "metadata": {},
          "output_type": "display_data"
        },
        {
          "data": {
            "text/html": [
              "<pre style=\"white-space:pre;overflow-x:auto;line-height:normal;font-family:Menlo,'DejaVu Sans Mono',consolas,'Courier New',monospace\">┏━━━━━━━━━━━━━━━━━━━━━━━━━━━┳━━━━━━━━━━━━━━━━━━━━━━━━┳━━━━━━━━━━━━━━━━┳━━━━━━━━━━━━━━━━━━━━━━━━┓\n",
              "┃<span style=\"font-weight: bold\"> Layer (type)              </span>┃<span style=\"font-weight: bold\"> Output Shape           </span>┃<span style=\"font-weight: bold\">        Param # </span>┃<span style=\"font-weight: bold\"> Connected to           </span>┃\n",
              "┡━━━━━━━━━━━━━━━━━━━━━━━━━━━╇━━━━━━━━━━━━━━━━━━━━━━━━╇━━━━━━━━━━━━━━━━╇━━━━━━━━━━━━━━━━━━━━━━━━┩\n",
              "│ input_layer_3             │ (<span style=\"color: #00d7ff; text-decoration-color: #00d7ff\">None</span>)                 │              <span style=\"color: #00af00; text-decoration-color: #00af00\">0</span> │ -                      │\n",
              "│ (<span style=\"color: #0087ff; text-decoration-color: #0087ff\">InputLayer</span>)              │                        │                │                        │\n",
              "├───────────────────────────┼────────────────────────┼────────────────┼────────────────────────┤\n",
              "│ text_vectorization        │ (<span style=\"color: #00d7ff; text-decoration-color: #00d7ff\">None</span>, <span style=\"color: #00af00; text-decoration-color: #00af00\">50</span>)             │              <span style=\"color: #00af00; text-decoration-color: #00af00\">0</span> │ input_layer_3[<span style=\"color: #00af00; text-decoration-color: #00af00\">0</span>][<span style=\"color: #00af00; text-decoration-color: #00af00\">0</span>]    │\n",
              "│ (<span style=\"color: #0087ff; text-decoration-color: #0087ff\">TextVectorization</span>)       │                        │                │                        │\n",
              "├───────────────────────────┼────────────────────────┼────────────────┼────────────────────────┤\n",
              "│ embedding_3 (<span style=\"color: #0087ff; text-decoration-color: #0087ff\">Embedding</span>)   │ (<span style=\"color: #00d7ff; text-decoration-color: #00d7ff\">None</span>, <span style=\"color: #00af00; text-decoration-color: #00af00\">50</span>, <span style=\"color: #00af00; text-decoration-color: #00af00\">128</span>)        │        <span style=\"color: #00af00; text-decoration-color: #00af00\">128,000</span> │ text_vectorization[<span style=\"color: #00af00; text-decoration-color: #00af00\">3</span>]… │\n",
              "├───────────────────────────┼────────────────────────┼────────────────┼────────────────────────┤\n",
              "│ not_equal_3 (<span style=\"color: #0087ff; text-decoration-color: #0087ff\">NotEqual</span>)    │ (<span style=\"color: #00d7ff; text-decoration-color: #00d7ff\">None</span>, <span style=\"color: #00af00; text-decoration-color: #00af00\">50</span>)             │              <span style=\"color: #00af00; text-decoration-color: #00af00\">0</span> │ text_vectorization[<span style=\"color: #00af00; text-decoration-color: #00af00\">3</span>]… │\n",
              "├───────────────────────────┼────────────────────────┼────────────────┼────────────────────────┤\n",
              "│ lstm_3 (<span style=\"color: #0087ff; text-decoration-color: #0087ff\">LSTM</span>)             │ (<span style=\"color: #00d7ff; text-decoration-color: #00d7ff\">None</span>, <span style=\"color: #00af00; text-decoration-color: #00af00\">512</span>)            │      <span style=\"color: #00af00; text-decoration-color: #00af00\">1,312,768</span> │ embedding_3[<span style=\"color: #00af00; text-decoration-color: #00af00\">0</span>][<span style=\"color: #00af00; text-decoration-color: #00af00\">0</span>],     │\n",
              "│                           │                        │                │ not_equal_3[<span style=\"color: #00af00; text-decoration-color: #00af00\">0</span>][<span style=\"color: #00af00; text-decoration-color: #00af00\">0</span>]      │\n",
              "├───────────────────────────┼────────────────────────┼────────────────┼────────────────────────┤\n",
              "│ repeat_vector_2           │ (<span style=\"color: #00d7ff; text-decoration-color: #00d7ff\">None</span>, <span style=\"color: #00af00; text-decoration-color: #00af00\">50</span>, <span style=\"color: #00af00; text-decoration-color: #00af00\">512</span>)        │              <span style=\"color: #00af00; text-decoration-color: #00af00\">0</span> │ lstm_3[<span style=\"color: #00af00; text-decoration-color: #00af00\">0</span>][<span style=\"color: #00af00; text-decoration-color: #00af00\">0</span>]           │\n",
              "│ (<span style=\"color: #0087ff; text-decoration-color: #0087ff\">RepeatVector</span>)            │                        │                │                        │\n",
              "├───────────────────────────┼────────────────────────┼────────────────┼────────────────────────┤\n",
              "│ lstm_4 (<span style=\"color: #0087ff; text-decoration-color: #0087ff\">LSTM</span>)             │ (<span style=\"color: #00d7ff; text-decoration-color: #00d7ff\">None</span>, <span style=\"color: #00af00; text-decoration-color: #00af00\">50</span>, <span style=\"color: #00af00; text-decoration-color: #00af00\">512</span>)        │      <span style=\"color: #00af00; text-decoration-color: #00af00\">2,099,200</span> │ repeat_vector_2[<span style=\"color: #00af00; text-decoration-color: #00af00\">0</span>][<span style=\"color: #00af00; text-decoration-color: #00af00\">0</span>]  │\n",
              "├───────────────────────────┼────────────────────────┼────────────────┼────────────────────────┤\n",
              "│ input_layer_4             │ (<span style=\"color: #00d7ff; text-decoration-color: #00d7ff\">None</span>)                 │              <span style=\"color: #00af00; text-decoration-color: #00af00\">0</span> │ -                      │\n",
              "│ (<span style=\"color: #0087ff; text-decoration-color: #0087ff\">InputLayer</span>)              │                        │                │                        │\n",
              "├───────────────────────────┼────────────────────────┼────────────────┼────────────────────────┤\n",
              "│ dense (<span style=\"color: #0087ff; text-decoration-color: #0087ff\">Dense</span>)             │ (<span style=\"color: #00d7ff; text-decoration-color: #00d7ff\">None</span>, <span style=\"color: #00af00; text-decoration-color: #00af00\">50</span>, <span style=\"color: #00af00; text-decoration-color: #00af00\">1000</span>)       │        <span style=\"color: #00af00; text-decoration-color: #00af00\">513,000</span> │ lstm_4[<span style=\"color: #00af00; text-decoration-color: #00af00\">0</span>][<span style=\"color: #00af00; text-decoration-color: #00af00\">0</span>]           │\n",
              "└───────────────────────────┴────────────────────────┴────────────────┴────────────────────────┘\n",
              "</pre>\n"
            ],
            "text/plain": [
              "┏━━━━━━━━━━━━━━━━━━━━━━━━━━━┳━━━━━━━━━━━━━━━━━━━━━━━━┳━━━━━━━━━━━━━━━━┳━━━━━━━━━━━━━━━━━━━━━━━━┓\n",
              "┃\u001b[1m \u001b[0m\u001b[1mLayer (type)             \u001b[0m\u001b[1m \u001b[0m┃\u001b[1m \u001b[0m\u001b[1mOutput Shape          \u001b[0m\u001b[1m \u001b[0m┃\u001b[1m \u001b[0m\u001b[1m       Param #\u001b[0m\u001b[1m \u001b[0m┃\u001b[1m \u001b[0m\u001b[1mConnected to          \u001b[0m\u001b[1m \u001b[0m┃\n",
              "┡━━━━━━━━━━━━━━━━━━━━━━━━━━━╇━━━━━━━━━━━━━━━━━━━━━━━━╇━━━━━━━━━━━━━━━━╇━━━━━━━━━━━━━━━━━━━━━━━━┩\n",
              "│ input_layer_3             │ (\u001b[38;5;45mNone\u001b[0m)                 │              \u001b[38;5;34m0\u001b[0m │ -                      │\n",
              "│ (\u001b[38;5;33mInputLayer\u001b[0m)              │                        │                │                        │\n",
              "├───────────────────────────┼────────────────────────┼────────────────┼────────────────────────┤\n",
              "│ text_vectorization        │ (\u001b[38;5;45mNone\u001b[0m, \u001b[38;5;34m50\u001b[0m)             │              \u001b[38;5;34m0\u001b[0m │ input_layer_3[\u001b[38;5;34m0\u001b[0m][\u001b[38;5;34m0\u001b[0m]    │\n",
              "│ (\u001b[38;5;33mTextVectorization\u001b[0m)       │                        │                │                        │\n",
              "├───────────────────────────┼────────────────────────┼────────────────┼────────────────────────┤\n",
              "│ embedding_3 (\u001b[38;5;33mEmbedding\u001b[0m)   │ (\u001b[38;5;45mNone\u001b[0m, \u001b[38;5;34m50\u001b[0m, \u001b[38;5;34m128\u001b[0m)        │        \u001b[38;5;34m128,000\u001b[0m │ text_vectorization[\u001b[38;5;34m3\u001b[0m]… │\n",
              "├───────────────────────────┼────────────────────────┼────────────────┼────────────────────────┤\n",
              "│ not_equal_3 (\u001b[38;5;33mNotEqual\u001b[0m)    │ (\u001b[38;5;45mNone\u001b[0m, \u001b[38;5;34m50\u001b[0m)             │              \u001b[38;5;34m0\u001b[0m │ text_vectorization[\u001b[38;5;34m3\u001b[0m]… │\n",
              "├───────────────────────────┼────────────────────────┼────────────────┼────────────────────────┤\n",
              "│ lstm_3 (\u001b[38;5;33mLSTM\u001b[0m)             │ (\u001b[38;5;45mNone\u001b[0m, \u001b[38;5;34m512\u001b[0m)            │      \u001b[38;5;34m1,312,768\u001b[0m │ embedding_3[\u001b[38;5;34m0\u001b[0m][\u001b[38;5;34m0\u001b[0m],     │\n",
              "│                           │                        │                │ not_equal_3[\u001b[38;5;34m0\u001b[0m][\u001b[38;5;34m0\u001b[0m]      │\n",
              "├───────────────────────────┼────────────────────────┼────────────────┼────────────────────────┤\n",
              "│ repeat_vector_2           │ (\u001b[38;5;45mNone\u001b[0m, \u001b[38;5;34m50\u001b[0m, \u001b[38;5;34m512\u001b[0m)        │              \u001b[38;5;34m0\u001b[0m │ lstm_3[\u001b[38;5;34m0\u001b[0m][\u001b[38;5;34m0\u001b[0m]           │\n",
              "│ (\u001b[38;5;33mRepeatVector\u001b[0m)            │                        │                │                        │\n",
              "├───────────────────────────┼────────────────────────┼────────────────┼────────────────────────┤\n",
              "│ lstm_4 (\u001b[38;5;33mLSTM\u001b[0m)             │ (\u001b[38;5;45mNone\u001b[0m, \u001b[38;5;34m50\u001b[0m, \u001b[38;5;34m512\u001b[0m)        │      \u001b[38;5;34m2,099,200\u001b[0m │ repeat_vector_2[\u001b[38;5;34m0\u001b[0m][\u001b[38;5;34m0\u001b[0m]  │\n",
              "├───────────────────────────┼────────────────────────┼────────────────┼────────────────────────┤\n",
              "│ input_layer_4             │ (\u001b[38;5;45mNone\u001b[0m)                 │              \u001b[38;5;34m0\u001b[0m │ -                      │\n",
              "│ (\u001b[38;5;33mInputLayer\u001b[0m)              │                        │                │                        │\n",
              "├───────────────────────────┼────────────────────────┼────────────────┼────────────────────────┤\n",
              "│ dense (\u001b[38;5;33mDense\u001b[0m)             │ (\u001b[38;5;45mNone\u001b[0m, \u001b[38;5;34m50\u001b[0m, \u001b[38;5;34m1000\u001b[0m)       │        \u001b[38;5;34m513,000\u001b[0m │ lstm_4[\u001b[38;5;34m0\u001b[0m][\u001b[38;5;34m0\u001b[0m]           │\n",
              "└───────────────────────────┴────────────────────────┴────────────────┴────────────────────────┘\n"
            ]
          },
          "metadata": {},
          "output_type": "display_data"
        },
        {
          "data": {
            "text/html": [
              "<pre style=\"white-space:pre;overflow-x:auto;line-height:normal;font-family:Menlo,'DejaVu Sans Mono',consolas,'Courier New',monospace\"><span style=\"font-weight: bold\"> Total params: </span><span style=\"color: #00af00; text-decoration-color: #00af00\">4,052,968</span> (15.46 MB)\n",
              "</pre>\n"
            ],
            "text/plain": [
              "\u001b[1m Total params: \u001b[0m\u001b[38;5;34m4,052,968\u001b[0m (15.46 MB)\n"
            ]
          },
          "metadata": {},
          "output_type": "display_data"
        },
        {
          "data": {
            "text/html": [
              "<pre style=\"white-space:pre;overflow-x:auto;line-height:normal;font-family:Menlo,'DejaVu Sans Mono',consolas,'Courier New',monospace\"><span style=\"font-weight: bold\"> Trainable params: </span><span style=\"color: #00af00; text-decoration-color: #00af00\">4,052,968</span> (15.46 MB)\n",
              "</pre>\n"
            ],
            "text/plain": [
              "\u001b[1m Trainable params: \u001b[0m\u001b[38;5;34m4,052,968\u001b[0m (15.46 MB)\n"
            ]
          },
          "metadata": {},
          "output_type": "display_data"
        },
        {
          "data": {
            "text/html": [
              "<pre style=\"white-space:pre;overflow-x:auto;line-height:normal;font-family:Menlo,'DejaVu Sans Mono',consolas,'Courier New',monospace\"><span style=\"font-weight: bold\"> Non-trainable params: </span><span style=\"color: #00af00; text-decoration-color: #00af00\">0</span> (0.00 B)\n",
              "</pre>\n"
            ],
            "text/plain": [
              "\u001b[1m Non-trainable params: \u001b[0m\u001b[38;5;34m0\u001b[0m (0.00 B)\n"
            ]
          },
          "metadata": {},
          "output_type": "display_data"
        }
      ],
      "source": [
        "embed_size = 128\n",
        "\n",
        "# Layer 1 & 2 of Encoder\n",
        "encoder_inputs     = tf.keras.layers.Input(shape=[], dtype=tf.string)\n",
        "encoder_input_ids  = text_vec_layer_en(encoder_inputs)\n",
        "encoder_embeddings = tf.keras.layers.Embedding(vocab_size, embed_size,mask_zero=True)(encoder_input_ids)\n",
        "encoder = tf.keras.layers.LSTM(512)(encoder_embeddings)\n",
        "r_vec = RepeatVector(n=max_length)(encoder) # con el repeatVector\n",
        "\n",
        "# Layer 1 & 2 of Decoder\n",
        "decoder_inputs     = tf.keras.layers.Input(shape=[], dtype=tf.string)\n",
        "decoder_input_ids  = text_vec_layer_es(decoder_inputs)\n",
        "decoder_embeddings = tf.keras.layers.Embedding(vocab_size, embed_size,mask_zero=True)(decoder_input_ids)\n",
        "decoder_outputs    = tf.keras.layers.LSTM(512, return_sequences=True, dropout=0.2)(r_vec)\n",
        "\n",
        "# Layer 3 of Decoder\n",
        "Y_proba = tf.keras.layers.Dense(vocab_size, activation=\"softmax\")(decoder_outputs)\n",
        "\n",
        "model = tf.keras.Model(inputs=[encoder_inputs, decoder_inputs],outputs=[Y_proba])\n",
        "model.compile(loss=\"sparse_categorical_crossentropy\", optimizer=\"nadam\", metrics=[\"accuracy\"])\n",
        "model.summary()"
      ]
    },
    {
      "cell_type": "markdown",
      "metadata": {
        "id": "I6XplSzgrtMT"
      },
      "source": [
        "Y ahora sí, comenzamos con la definición (funcional del modelo)"
      ]
    },
    {
      "cell_type": "markdown",
      "metadata": {
        "id": "7-W99DourtMW"
      },
      "source": [
        "**Warning**: the following cell will take a while to run (possibly a couple hours if you are not using a GPU)."
      ]
    },
    {
      "cell_type": "code",
      "execution_count": 24,
      "metadata": {
        "id": "v8ZLhJoz0myR"
      },
      "outputs": [],
      "source": [
        "checkpoint_filepath = './tmp/ckpt/checkpoint.model.keras'\n",
        "model_checkpoint_callback = tf.keras.callbacks.ModelCheckpoint(\n",
        "    filepath=checkpoint_filepath,\n",
        "    monitor='val_loss',\n",
        "    mode='min',\n",
        "    save_best_only=True)"
      ]
    },
    {
      "cell_type": "code",
      "execution_count": 25,
      "metadata": {
        "id": "5TiytMJJMNU7"
      },
      "outputs": [],
      "source": [
        "early_stopping_callback = tf.keras.callbacks.EarlyStopping(monitor='val_loss', patience=10)"
      ]
    },
    {
      "cell_type": "code",
      "execution_count": 26,
      "metadata": {
        "colab": {
          "base_uri": "https://localhost:8080/"
        },
        "id": "pZT7TWtjrtMW",
        "outputId": "046dc4c1-e07d-4777-bf64-01824b6784a5"
      },
      "outputs": [
        {
          "name": "stdout",
          "output_type": "stream",
          "text": [
            "Epoch 1/100\n",
            "\u001b[1m3125/3125\u001b[0m \u001b[32m━━━━━━━━━━━━━━━━━━━━\u001b[0m\u001b[37m\u001b[0m \u001b[1m79s\u001b[0m 23ms/step - accuracy: 0.8802 - loss: 0.7074 - val_accuracy: 0.8968 - val_loss: 0.5057\n",
            "Epoch 2/100\n",
            "\u001b[1m3125/3125\u001b[0m \u001b[32m━━━━━━━━━━━━━━━━━━━━\u001b[0m\u001b[37m\u001b[0m \u001b[1m78s\u001b[0m 23ms/step - accuracy: 0.8990 - loss: 0.4774 - val_accuracy: 0.9067 - val_loss: 0.4096\n",
            "Epoch 3/100\n",
            "\u001b[1m3125/3125\u001b[0m \u001b[32m━━━━━━━━━━━━━━━━━━━━\u001b[0m\u001b[37m\u001b[0m \u001b[1m82s\u001b[0m 24ms/step - accuracy: 0.9085 - loss: 0.3889 - val_accuracy: 0.9111 - val_loss: 0.3699\n",
            "Epoch 4/100\n",
            "\u001b[1m3125/3125\u001b[0m \u001b[32m━━━━━━━━━━━━━━━━━━━━\u001b[0m\u001b[37m\u001b[0m \u001b[1m73s\u001b[0m 23ms/step - accuracy: 0.9144 - loss: 0.3443 - val_accuracy: 0.9142 - val_loss: 0.3476\n",
            "Epoch 5/100\n",
            "\u001b[1m3125/3125\u001b[0m \u001b[32m━━━━━━━━━━━━━━━━━━━━\u001b[0m\u001b[37m\u001b[0m \u001b[1m85s\u001b[0m 24ms/step - accuracy: 0.9186 - loss: 0.3163 - val_accuracy: 0.9159 - val_loss: 0.3354\n",
            "Epoch 6/100\n",
            "\u001b[1m3125/3125\u001b[0m \u001b[32m━━━━━━━━━━━━━━━━━━━━\u001b[0m\u001b[37m\u001b[0m \u001b[1m79s\u001b[0m 24ms/step - accuracy: 0.9215 - loss: 0.2981 - val_accuracy: 0.9169 - val_loss: 0.3301\n",
            "Epoch 7/100\n",
            "\u001b[1m3125/3125\u001b[0m \u001b[32m━━━━━━━━━━━━━━━━━━━━\u001b[0m\u001b[37m\u001b[0m \u001b[1m81s\u001b[0m 23ms/step - accuracy: 0.9249 - loss: 0.2783 - val_accuracy: 0.9175 - val_loss: 0.3264\n",
            "Epoch 8/100\n",
            "\u001b[1m3125/3125\u001b[0m \u001b[32m━━━━━━━━━━━━━━━━━━━━\u001b[0m\u001b[37m\u001b[0m \u001b[1m82s\u001b[0m 23ms/step - accuracy: 0.9277 - loss: 0.2641 - val_accuracy: 0.9175 - val_loss: 0.3272\n",
            "Epoch 9/100\n",
            "\u001b[1m3125/3125\u001b[0m \u001b[32m━━━━━━━━━━━━━━━━━━━━\u001b[0m\u001b[37m\u001b[0m \u001b[1m83s\u001b[0m 24ms/step - accuracy: 0.9300 - loss: 0.2518 - val_accuracy: 0.9183 - val_loss: 0.3279\n",
            "Epoch 10/100\n",
            "\u001b[1m3125/3125\u001b[0m \u001b[32m━━━━━━━━━━━━━━━━━━━━\u001b[0m\u001b[37m\u001b[0m \u001b[1m81s\u001b[0m 23ms/step - accuracy: 0.9320 - loss: 0.2423 - val_accuracy: 0.9184 - val_loss: 0.3317\n",
            "Epoch 11/100\n",
            "\u001b[1m3125/3125\u001b[0m \u001b[32m━━━━━━━━━━━━━━━━━━━━\u001b[0m\u001b[37m\u001b[0m \u001b[1m73s\u001b[0m 23ms/step - accuracy: 0.9345 - loss: 0.2308 - val_accuracy: 0.9180 - val_loss: 0.3326\n",
            "Epoch 12/100\n",
            "\u001b[1m3125/3125\u001b[0m \u001b[32m━━━━━━━━━━━━━━━━━━━━\u001b[0m\u001b[37m\u001b[0m \u001b[1m74s\u001b[0m 24ms/step - accuracy: 0.9362 - loss: 0.2231 - val_accuracy: 0.9179 - val_loss: 0.3359\n",
            "Epoch 13/100\n",
            "\u001b[1m3125/3125\u001b[0m \u001b[32m━━━━━━━━━━━━━━━━━━━━\u001b[0m\u001b[37m\u001b[0m \u001b[1m82s\u001b[0m 24ms/step - accuracy: 0.9381 - loss: 0.2141 - val_accuracy: 0.9177 - val_loss: 0.3412\n",
            "Epoch 14/100\n",
            "\u001b[1m3125/3125\u001b[0m \u001b[32m━━━━━━━━━━━━━━━━━━━━\u001b[0m\u001b[37m\u001b[0m \u001b[1m81s\u001b[0m 23ms/step - accuracy: 0.9397 - loss: 0.2078 - val_accuracy: 0.9176 - val_loss: 0.3468\n",
            "Epoch 15/100\n",
            "\u001b[1m3125/3125\u001b[0m \u001b[32m━━━━━━━━━━━━━━━━━━━━\u001b[0m\u001b[37m\u001b[0m \u001b[1m73s\u001b[0m 23ms/step - accuracy: 0.9413 - loss: 0.2008 - val_accuracy: 0.9176 - val_loss: 0.3505\n",
            "Epoch 16/100\n",
            "\u001b[1m3125/3125\u001b[0m \u001b[32m━━━━━━━━━━━━━━━━━━━━\u001b[0m\u001b[37m\u001b[0m \u001b[1m73s\u001b[0m 23ms/step - accuracy: 0.9424 - loss: 0.1959 - val_accuracy: 0.9167 - val_loss: 0.3549\n",
            "Epoch 17/100\n",
            "\u001b[1m3125/3125\u001b[0m \u001b[32m━━━━━━━━━━━━━━━━━━━━\u001b[0m\u001b[37m\u001b[0m \u001b[1m73s\u001b[0m 23ms/step - accuracy: 0.9440 - loss: 0.1901 - val_accuracy: 0.9172 - val_loss: 0.3569\n"
          ]
        },
        {
          "data": {
            "text/plain": [
              "<keras.src.callbacks.history.History at 0x7ce550d8c3d0>"
            ]
          },
          "execution_count": 26,
          "metadata": {},
          "output_type": "execute_result"
        }
      ],
      "source": [
        "model.fit((X_train, X_train_dec), Y_train, epochs=100,\n",
        "          validation_data=((X_valid, X_valid_dec), Y_valid), callbacks=[model_checkpoint_callback, early_stopping_callback])"
      ]
    },
    {
      "cell_type": "markdown",
      "metadata": {
        "id": "cPtEaBMqrtMW"
      },
      "source": [
        "Una vez entrenado el modelo, la traducción la hacemos palabra por palabra (si no, habría que usar una capa TimeDistributed).  \n",
        "\n",
        "El decoder espera que le pasemos una secuencia guía (el teacher, aquí no hacemos teacher forcing), que es la función que hacía la secuencia target desplazada uno en el entrenamiento.  \n",
        "\n",
        "Lo que vamos a hacer es ir prediciendo palabra a palabra introduciendo como guía la última predicción hasta llegar a que el modelo devuelva el carácter de fin de secuencia y en ese momento devolvemos la \"traducción\""
      ]
    },
    {
      "cell_type": "code",
      "execution_count": 27,
      "metadata": {
        "id": "adTniqXUrtMW"
      },
      "outputs": [],
      "source": [
        "def translate(sentence_en):\n",
        "    translation = \"\"\n",
        "    for word_idx in range(max_length):\n",
        "        X = np.array([sentence_en])  # encoder input\n",
        "        X_dec = np.array([\"startofseq \" + translation])  # decoder input\n",
        "        y_probs = model.predict((X.astype(object), X_dec.astype(object)))\n",
        "        y_proba = y_probs[0, word_idx]  # last token's probas\n",
        "        predicted_word_id = np.argmax(y_proba)\n",
        "        predicted_proba = round(float(y_proba[predicted_word_id]),3)\n",
        "        predicted_word = text_vec_layer_es.get_vocabulary()[predicted_word_id]\n",
        "        if predicted_word == \"endofseq\":\n",
        "            break\n",
        "        translation += \" \" + predicted_word\n",
        "        print(f\"{translation}({predicted_proba})\")\n",
        "    return translation.strip()"
      ]
    },
    {
      "cell_type": "markdown",
      "metadata": {
        "id": "bnh_m6khrtMW"
      },
      "source": [
        "Probemos con algo sencillo"
      ]
    },
    {
      "cell_type": "code",
      "execution_count": 31,
      "metadata": {
        "id": "-ranB-ZwsQmG"
      },
      "outputs": [],
      "source": [
        "frase = \"I like snow\""
      ]
    },
    {
      "cell_type": "code",
      "execution_count": 32,
      "metadata": {
        "colab": {
          "base_uri": "https://localhost:8080/",
          "height": 191
        },
        "id": "CKivIVBkrtMW",
        "outputId": "2efd2cc6-abb3-4ad7-a06e-93389e668dd3"
      },
      "outputs": [
        {
          "name": "stdout",
          "output_type": "stream",
          "text": [
            "\u001b[1m1/1\u001b[0m \u001b[32m━━━━━━━━━━━━━━━━━━━━\u001b[0m\u001b[37m\u001b[0m \u001b[1m0s\u001b[0m 18ms/step\n",
            " me(1.0)\n",
            "\u001b[1m1/1\u001b[0m \u001b[32m━━━━━━━━━━━━━━━━━━━━\u001b[0m\u001b[37m\u001b[0m \u001b[1m0s\u001b[0m 18ms/step\n",
            " me gusta(0.67)\n",
            "\u001b[1m1/1\u001b[0m \u001b[32m━━━━━━━━━━━━━━━━━━━━\u001b[0m\u001b[37m\u001b[0m \u001b[1m0s\u001b[0m 17ms/step\n",
            " me gusta la(0.651)\n",
            "\u001b[1m1/1\u001b[0m \u001b[32m━━━━━━━━━━━━━━━━━━━━\u001b[0m\u001b[37m\u001b[0m \u001b[1m0s\u001b[0m 17ms/step\n",
            " me gusta la nieve(0.971)\n",
            "\u001b[1m1/1\u001b[0m \u001b[32m━━━━━━━━━━━━━━━━━━━━\u001b[0m\u001b[37m\u001b[0m \u001b[1m0s\u001b[0m 17ms/step\n"
          ]
        },
        {
          "data": {
            "application/vnd.google.colaboratory.intrinsic+json": {
              "type": "string"
            },
            "text/plain": [
              "'me gusta la nieve'"
            ]
          },
          "execution_count": 32,
          "metadata": {},
          "output_type": "execute_result"
        }
      ],
      "source": [
        "translate(frase)"
      ]
    },
    {
      "cell_type": "code",
      "execution_count": 62,
      "metadata": {
        "id": "3acbdajllVUC"
      },
      "outputs": [],
      "source": [
        "frase= \"I like eating cake.\""
      ]
    },
    {
      "cell_type": "code",
      "execution_count": 69,
      "metadata": {
        "colab": {
          "base_uri": "https://localhost:8080/",
          "height": 191
        },
        "id": "9VAwaBcAvx7T",
        "outputId": "26100cbf-2889-4c84-d112-e43ef9c1fef8"
      },
      "outputs": [
        {
          "name": "stdout",
          "output_type": "stream",
          "text": [
            "\u001b[1m1/1\u001b[0m \u001b[32m━━━━━━━━━━━━━━━━━━━━\u001b[0m\u001b[37m\u001b[0m \u001b[1m0s\u001b[0m 20ms/step\n",
            " me(0.973)\n",
            "\u001b[1m1/1\u001b[0m \u001b[32m━━━━━━━━━━━━━━━━━━━━\u001b[0m\u001b[37m\u001b[0m \u001b[1m0s\u001b[0m 19ms/step\n",
            " me gusta(0.906)\n",
            "\u001b[1m1/1\u001b[0m \u001b[32m━━━━━━━━━━━━━━━━━━━━\u001b[0m\u001b[37m\u001b[0m \u001b[1m0s\u001b[0m 17ms/step\n",
            " me gusta comer(0.744)\n",
            "\u001b[1m1/1\u001b[0m \u001b[32m━━━━━━━━━━━━━━━━━━━━\u001b[0m\u001b[37m\u001b[0m \u001b[1m0s\u001b[0m 19ms/step\n",
            " me gusta comer torta(0.665)\n",
            "\u001b[1m1/1\u001b[0m \u001b[32m━━━━━━━━━━━━━━━━━━━━\u001b[0m\u001b[37m\u001b[0m \u001b[1m0s\u001b[0m 21ms/step\n"
          ]
        },
        {
          "data": {
            "application/vnd.google.colaboratory.intrinsic+json": {
              "type": "string"
            },
            "text/plain": [
              "'me gusta comer torta'"
            ]
          },
          "execution_count": 69,
          "metadata": {},
          "output_type": "execute_result"
        }
      ],
      "source": [
        "translate(frase)"
      ]
    },
    {
      "cell_type": "code",
      "execution_count": 37,
      "metadata": {
        "id": "TE1JWcXylkU2"
      },
      "outputs": [],
      "source": [
        "frase= \"The flowers are so beautiful\""
      ]
    },
    {
      "cell_type": "code",
      "execution_count": 38,
      "metadata": {
        "colab": {
          "base_uri": "https://localhost:8080/",
          "height": 226
        },
        "id": "UdzzHeA5lqyu",
        "outputId": "18fa7077-2dd0-44d6-8fe7-ec2f79a65858"
      },
      "outputs": [
        {
          "name": "stdout",
          "output_type": "stream",
          "text": [
            "\u001b[1m1/1\u001b[0m \u001b[32m━━━━━━━━━━━━━━━━━━━━\u001b[0m\u001b[37m\u001b[0m \u001b[1m0s\u001b[0m 59ms/step\n",
            " las(0.585)\n",
            "\u001b[1m1/1\u001b[0m \u001b[32m━━━━━━━━━━━━━━━━━━━━\u001b[0m\u001b[37m\u001b[0m \u001b[1m0s\u001b[0m 33ms/step\n",
            " las flores(0.819)\n",
            "\u001b[1m1/1\u001b[0m \u001b[32m━━━━━━━━━━━━━━━━━━━━\u001b[0m\u001b[37m\u001b[0m \u001b[1m0s\u001b[0m 30ms/step\n",
            " las flores son(0.538)\n",
            "\u001b[1m1/1\u001b[0m \u001b[32m━━━━━━━━━━━━━━━━━━━━\u001b[0m\u001b[37m\u001b[0m \u001b[1m0s\u001b[0m 100ms/step\n",
            " las flores son muy(0.464)\n",
            "\u001b[1m1/1\u001b[0m \u001b[32m━━━━━━━━━━━━━━━━━━━━\u001b[0m\u001b[37m\u001b[0m \u001b[1m0s\u001b[0m 105ms/step\n",
            " las flores son muy [UNK](0.859)\n",
            "\u001b[1m1/1\u001b[0m \u001b[32m━━━━━━━━━━━━━━━━━━━━\u001b[0m\u001b[37m\u001b[0m \u001b[1m0s\u001b[0m 45ms/step\n"
          ]
        },
        {
          "data": {
            "application/vnd.google.colaboratory.intrinsic+json": {
              "type": "string"
            },
            "text/plain": [
              "'las flores son muy [UNK]'"
            ]
          },
          "execution_count": 38,
          "metadata": {},
          "output_type": "execute_result"
        }
      ],
      "source": [
        "translate(frase)"
      ]
    },
    {
      "cell_type": "code",
      "execution_count": 39,
      "metadata": {
        "colab": {
          "base_uri": "https://localhost:8080/",
          "height": 365
        },
        "id": "sbpR3btrrtMX",
        "outputId": "64df0745-3264-4b09-ca23-d2c8aa45fb0a"
      },
      "outputs": [
        {
          "name": "stdout",
          "output_type": "stream",
          "text": [
            "\u001b[1m1/1\u001b[0m \u001b[32m━━━━━━━━━━━━━━━━━━━━\u001b[0m\u001b[37m\u001b[0m \u001b[1m0s\u001b[0m 21ms/step\n",
            " me(0.995)\n",
            "\u001b[1m1/1\u001b[0m \u001b[32m━━━━━━━━━━━━━━━━━━━━\u001b[0m\u001b[37m\u001b[0m \u001b[1m0s\u001b[0m 18ms/step\n",
            " me gusta(0.829)\n",
            "\u001b[1m1/1\u001b[0m \u001b[32m━━━━━━━━━━━━━━━━━━━━\u001b[0m\u001b[37m\u001b[0m \u001b[1m0s\u001b[0m 18ms/step\n",
            " me gusta [UNK](0.312)\n",
            "\u001b[1m1/1\u001b[0m \u001b[32m━━━━━━━━━━━━━━━━━━━━\u001b[0m\u001b[37m\u001b[0m \u001b[1m0s\u001b[0m 19ms/step\n",
            " me gusta [UNK] me(0.3)\n",
            "\u001b[1m1/1\u001b[0m \u001b[32m━━━━━━━━━━━━━━━━━━━━\u001b[0m\u001b[37m\u001b[0m \u001b[1m0s\u001b[0m 19ms/step\n",
            " me gusta [UNK] me y(0.317)\n",
            "\u001b[1m1/1\u001b[0m \u001b[32m━━━━━━━━━━━━━━━━━━━━\u001b[0m\u001b[37m\u001b[0m \u001b[1m0s\u001b[0m 28ms/step\n",
            " me gusta [UNK] me y me(0.574)\n",
            "\u001b[1m1/1\u001b[0m \u001b[32m━━━━━━━━━━━━━━━━━━━━\u001b[0m\u001b[37m\u001b[0m \u001b[1m0s\u001b[0m 22ms/step\n",
            " me gusta [UNK] me y me gusta(0.304)\n",
            "\u001b[1m1/1\u001b[0m \u001b[32m━━━━━━━━━━━━━━━━━━━━\u001b[0m\u001b[37m\u001b[0m \u001b[1m0s\u001b[0m 19ms/step\n",
            " me gusta [UNK] me y me gusta la(0.196)\n",
            "\u001b[1m1/1\u001b[0m \u001b[32m━━━━━━━━━━━━━━━━━━━━\u001b[0m\u001b[37m\u001b[0m \u001b[1m0s\u001b[0m 18ms/step\n",
            " me gusta [UNK] me y me gusta la playa(0.79)\n",
            "\u001b[1m1/1\u001b[0m \u001b[32m━━━━━━━━━━━━━━━━━━━━\u001b[0m\u001b[37m\u001b[0m \u001b[1m0s\u001b[0m 18ms/step\n"
          ]
        },
        {
          "data": {
            "application/vnd.google.colaboratory.intrinsic+json": {
              "type": "string"
            },
            "text/plain": [
              "'me gusta [UNK] me y me gusta la playa'"
            ]
          },
          "execution_count": 39,
          "metadata": {},
          "output_type": "execute_result"
        }
      ],
      "source": [
        "translate(\"I like soccer and also going to the beach\")"
      ]
    },
    {
      "cell_type": "code",
      "execution_count": 45,
      "metadata": {
        "colab": {
          "base_uri": "https://localhost:8080/"
        },
        "id": "KLEFb-nymBSN",
        "outputId": "7883abce-7120-4b7c-c594-e2545eff433d"
      },
      "outputs": [
        {
          "data": {
            "text/plain": [
              "['',\n",
              " '[UNK]',\n",
              " 'the',\n",
              " 'i',\n",
              " 'to',\n",
              " 'you',\n",
              " 'tom',\n",
              " 'a',\n",
              " 'is',\n",
              " 'he',\n",
              " 'in',\n",
              " 'of',\n",
              " 'that',\n",
              " 'it',\n",
              " 'was',\n",
              " 'do',\n",
              " 'have',\n",
              " 'this',\n",
              " 'me',\n",
              " 'my',\n",
              " 'for',\n",
              " 'she',\n",
              " 'dont',\n",
              " 'are',\n",
              " 'what',\n",
              " 'his',\n",
              " 'mary',\n",
              " 'we',\n",
              " 'your',\n",
              " 'on',\n",
              " 'be',\n",
              " 'with',\n",
              " 'want',\n",
              " 'not',\n",
              " 'im',\n",
              " 'and',\n",
              " 'like',\n",
              " 'at',\n",
              " 'know',\n",
              " 'him',\n",
              " 'can',\n",
              " 'go',\n",
              " 'her',\n",
              " 'has',\n",
              " 'will',\n",
              " 'its',\n",
              " 'there',\n",
              " 'they',\n",
              " 'time',\n",
              " 'how',\n",
              " 'did',\n",
              " 'as',\n",
              " 'were',\n",
              " 'very',\n",
              " 'had',\n",
              " 'all',\n",
              " 'about',\n",
              " 'here',\n",
              " 'up',\n",
              " 'didnt',\n",
              " 'think',\n",
              " 'get',\n",
              " 'out',\n",
              " 'when',\n",
              " 'from',\n",
              " 'cant',\n",
              " 'if',\n",
              " 'an',\n",
              " 'no',\n",
              " 'one',\n",
              " 'doesnt',\n",
              " 'going',\n",
              " 'by',\n",
              " 'would',\n",
              " 'why',\n",
              " 'come',\n",
              " 'see',\n",
              " 'good',\n",
              " 'ill',\n",
              " 'please',\n",
              " 'youre',\n",
              " 'just',\n",
              " 'who',\n",
              " 'been',\n",
              " 'need',\n",
              " 'so',\n",
              " 'more',\n",
              " 'help',\n",
              " 'tell',\n",
              " 'but',\n",
              " 'now',\n",
              " 'where',\n",
              " 'than',\n",
              " 'never',\n",
              " 'am',\n",
              " 'got',\n",
              " 'too',\n",
              " 'some',\n",
              " 'us',\n",
              " 'something',\n",
              " 'last',\n",
              " 'take',\n",
              " 'much',\n",
              " 'should',\n",
              " 'day',\n",
              " 'ive',\n",
              " 'car',\n",
              " 'could',\n",
              " 'money',\n",
              " 'home',\n",
              " 'people',\n",
              " 'work',\n",
              " 'well',\n",
              " 'back',\n",
              " 'really',\n",
              " 'our',\n",
              " 'went',\n",
              " 'many',\n",
              " 'said',\n",
              " 'told',\n",
              " 'house',\n",
              " 'book',\n",
              " 'any',\n",
              " 'lot',\n",
              " 'anything',\n",
              " 'hes',\n",
              " 'does',\n",
              " 'isnt',\n",
              " 'say',\n",
              " 'thought',\n",
              " 'only',\n",
              " 'make',\n",
              " 'eat',\n",
              " 'french',\n",
              " 'school',\n",
              " 'room',\n",
              " 'new',\n",
              " 'two',\n",
              " 'thats',\n",
              " 'always',\n",
              " 'made',\n",
              " 'today',\n",
              " 'toms',\n",
              " 'must',\n",
              " 'give',\n",
              " 'speak',\n",
              " 'right',\n",
              " 'long',\n",
              " 'every',\n",
              " 'love',\n",
              " 'man',\n",
              " 'old',\n",
              " 'three',\n",
              " 'father',\n",
              " 'wanted',\n",
              " 'still',\n",
              " 'lets',\n",
              " 'off',\n",
              " 'night',\n",
              " 'let',\n",
              " 'look',\n",
              " 'before',\n",
              " 'asked',\n",
              " 'tomorrow',\n",
              " 'talk',\n",
              " 'boston',\n",
              " 'id',\n",
              " 'left',\n",
              " 'way',\n",
              " 'little',\n",
              " 'dog',\n",
              " 'leave',\n",
              " 'put',\n",
              " 'nothing',\n",
              " 'or',\n",
              " 'saw',\n",
              " 'again',\n",
              " 'job',\n",
              " 'over',\n",
              " 'after',\n",
              " 'years',\n",
              " 'yesterday',\n",
              " 'whats',\n",
              " 'into',\n",
              " 'may',\n",
              " 'live',\n",
              " 'better',\n",
              " 'down',\n",
              " 'english',\n",
              " 'them',\n",
              " 'wont',\n",
              " 'buy',\n",
              " 'came',\n",
              " 'stay',\n",
              " 'everything',\n",
              " 'happy',\n",
              " 'read',\n",
              " 'first',\n",
              " 'find',\n",
              " 'play',\n",
              " 'next',\n",
              " 'wants',\n",
              " 'mother',\n",
              " 'theres',\n",
              " 'couldnt',\n",
              " 'took',\n",
              " 'life',\n",
              " 'understand',\n",
              " 'other',\n",
              " 'friends',\n",
              " 'children',\n",
              " 'these',\n",
              " 'ask',\n",
              " 'bought',\n",
              " 'stop',\n",
              " 'morning',\n",
              " 'used',\n",
              " 'doing',\n",
              " 'keep',\n",
              " 'door',\n",
              " 'problem',\n",
              " 'call',\n",
              " 'believe',\n",
              " 'feel',\n",
              " 'their',\n",
              " 'lost',\n",
              " 'ever',\n",
              " 'away',\n",
              " 'late',\n",
              " 'gave',\n",
              " 'soon',\n",
              " 'sure',\n",
              " 'happened',\n",
              " 'name',\n",
              " 'friend',\n",
              " 'remember',\n",
              " 'already',\n",
              " 'enough',\n",
              " 'alone',\n",
              " 'hard',\n",
              " 'year',\n",
              " 'married',\n",
              " 'heard',\n",
              " 'without',\n",
              " 'wrong',\n",
              " 'week',\n",
              " 'best',\n",
              " 'water',\n",
              " 'busy',\n",
              " 'boy',\n",
              " 'teacher',\n",
              " 'wasnt',\n",
              " 'even',\n",
              " 'bad',\n",
              " 'beautiful',\n",
              " 'things',\n",
              " 'because',\n",
              " 'try',\n",
              " 'often',\n",
              " 'knows',\n",
              " 'bed',\n",
              " 'looking',\n",
              " 'hear',\n",
              " 'found',\n",
              " 'marys',\n",
              " 'likes',\n",
              " 'wait',\n",
              " 'same',\n",
              " 'done',\n",
              " 'party',\n",
              " 'seen',\n",
              " 'looks',\n",
              " 'able',\n",
              " 'thing',\n",
              " 'cold',\n",
              " 'theyre',\n",
              " 'big',\n",
              " 'knew',\n",
              " 'food',\n",
              " 'train',\n",
              " 'person',\n",
              " 'idea',\n",
              " 'john',\n",
              " 'tired',\n",
              " 'coffee',\n",
              " 'answer',\n",
              " 'use',\n",
              " 'being',\n",
              " 'brother',\n",
              " 'true',\n",
              " 'hope',\n",
              " 'while',\n",
              " 'everyone',\n",
              " 'around',\n",
              " 'watch',\n",
              " 'learn',\n",
              " 'letter',\n",
              " 'drink',\n",
              " 'books',\n",
              " 'shes',\n",
              " 'yet',\n",
              " 'open',\n",
              " 'days',\n",
              " 'wish',\n",
              " 'met',\n",
              " 'japan',\n",
              " 'girl',\n",
              " 'which',\n",
              " 'almost',\n",
              " 'youll',\n",
              " 'died',\n",
              " 'someone',\n",
              " 'mind',\n",
              " 'sleep',\n",
              " 'bus',\n",
              " 'pay',\n",
              " 'study',\n",
              " 'kind',\n",
              " 'few',\n",
              " 'world',\n",
              " 'those',\n",
              " 'young',\n",
              " 'parents',\n",
              " 'turn',\n",
              " 'truth',\n",
              " 'each',\n",
              " 'talking',\n",
              " 'another',\n",
              " 'seems',\n",
              " 'place',\n",
              " 'walk',\n",
              " 'lunch',\n",
              " 'looked',\n",
              " 'getting',\n",
              " 'family',\n",
              " 'once',\n",
              " 'happen',\n",
              " 'care',\n",
              " 'anyone',\n",
              " 'most',\n",
              " 'doctor',\n",
              " 'tried',\n",
              " 'afraid',\n",
              " 'early',\n",
              " 'both',\n",
              " 'own',\n",
              " 'ten',\n",
              " 'sister',\n",
              " 'until',\n",
              " 'monday',\n",
              " 'havent',\n",
              " 'together',\n",
              " 'difficult',\n",
              " 'ago',\n",
              " 'mine',\n",
              " 'rain',\n",
              " 'write',\n",
              " 'great',\n",
              " 'plan',\n",
              " 'angry',\n",
              " 'show',\n",
              " 'dinner',\n",
              " 'coming',\n",
              " 'tv',\n",
              " 'else',\n",
              " 'cat',\n",
              " 'hours',\n",
              " 'favorite',\n",
              " 'youve',\n",
              " 'since',\n",
              " 'yourself',\n",
              " 'wouldnt',\n",
              " 'himself',\n",
              " 'child',\n",
              " 'country',\n",
              " 'wife',\n",
              " 'playing',\n",
              " 'arent',\n",
              " 'meeting',\n",
              " 'says',\n",
              " 'five',\n",
              " 'question',\n",
              " 'might',\n",
              " 'sorry',\n",
              " 'reading',\n",
              " 'table',\n",
              " 'such',\n",
              " 'phone',\n",
              " 'matter',\n",
              " 'police',\n",
              " 'lives',\n",
              " 'nobody',\n",
              " 'hurt',\n",
              " 'everybody',\n",
              " 'meet',\n",
              " 'eating',\n",
              " 'accident',\n",
              " 'easy',\n",
              " 'ate',\n",
              " 'waiting',\n",
              " 'trying',\n",
              " 'japanese',\n",
              " 'start',\n",
              " 'nice',\n",
              " 'month',\n",
              " 'swim',\n",
              " 'students',\n",
              " 'finished',\n",
              " 'called',\n",
              " 'minutes',\n",
              " 'hand',\n",
              " 'started',\n",
              " 'decided',\n",
              " 'son',\n",
              " 'office',\n",
              " 'hate',\n",
              " 'far',\n",
              " 'drive',\n",
              " 'trouble',\n",
              " 'times',\n",
              " 'story',\n",
              " 'small',\n",
              " 'myself',\n",
              " 'important',\n",
              " 'under',\n",
              " 'tonight',\n",
              " 'ready',\n",
              " 'needs',\n",
              " 'felt',\n",
              " 'station',\n",
              " 'having',\n",
              " 'shoes',\n",
              " 'fire',\n",
              " 'window',\n",
              " 'arrived',\n",
              " 'ran',\n",
              " 'sick',\n",
              " 'woman',\n",
              " 'usually',\n",
              " 'shouldnt',\n",
              " 'music',\n",
              " 'city',\n",
              " 'working',\n",
              " 'pretty',\n",
              " 'change',\n",
              " 'goes',\n",
              " 'anymore',\n",
              " 'word',\n",
              " 'homework',\n",
              " 'gone',\n",
              " 'fun',\n",
              " 'fast',\n",
              " 'park',\n",
              " 'hot',\n",
              " 'tennis',\n",
              " 'broke',\n",
              " 'town',\n",
              " 'christmas',\n",
              " 'picture',\n",
              " 'mistake',\n",
              " 'eyes',\n",
              " 'visit',\n",
              " 'breakfast',\n",
              " 'movie',\n",
              " 'red',\n",
              " 'game',\n",
              " 'run',\n",
              " 'language',\n",
              " 'baby',\n",
              " 'afternoon',\n",
              " 'thank',\n",
              " 'six',\n",
              " 'quite',\n",
              " 'stupid',\n",
              " 'forget',\n",
              " 'song',\n",
              " 'against',\n",
              " 'advice',\n",
              " 'rich',\n",
              " 'interesting',\n",
              " 'hair',\n",
              " 'summer',\n",
              " 'caught',\n",
              " 'weve',\n",
              " 'then',\n",
              " 'spend',\n",
              " 'lived',\n",
              " 'cake',\n",
              " 'listen',\n",
              " 'fell',\n",
              " 'studying',\n",
              " 'smoking',\n",
              " 'finish',\n",
              " 'began',\n",
              " 'turned',\n",
              " 'comes',\n",
              " 'along',\n",
              " 'river',\n",
              " 'longer',\n",
              " 'face',\n",
              " 'makes',\n",
              " 'class',\n",
              " 'close',\n",
              " 'sit',\n",
              " 'number',\n",
              " 'war',\n",
              " 'free',\n",
              " 'fish',\n",
              " 'through',\n",
              " 'milk',\n",
              " 'whos',\n",
              " 'loves',\n",
              " 'hotel',\n",
              " 'present',\n",
              " 'older',\n",
              " 'australia',\n",
              " 'watching',\n",
              " 'later',\n",
              " 'large',\n",
              " 'kept',\n",
              " 'cannot',\n",
              " 'youd',\n",
              " 'end',\n",
              " 'weather',\n",
              " 'bring',\n",
              " 'thinking',\n",
              " 'short',\n",
              " 'mean',\n",
              " 'living',\n",
              " 'hour',\n",
              " 'death',\n",
              " 'age',\n",
              " 'killed',\n",
              " 'america',\n",
              " 'hands',\n",
              " 'dream',\n",
              " 'box',\n",
              " 'kill',\n",
              " 'hospital',\n",
              " 'sometimes',\n",
              " 'news',\n",
              " 'full',\n",
              " 'dark',\n",
              " 'chance',\n",
              " 'became',\n",
              " 'wonder',\n",
              " 'surprised',\n",
              " 'seem',\n",
              " 'questions',\n",
              " 'street',\n",
              " 'sat',\n",
              " 'making',\n",
              " 'clean',\n",
              " 'snow',\n",
              " 'light',\n",
              " 'hurry',\n",
              " 'hungry',\n",
              " 'forgot',\n",
              " 'camera',\n",
              " 'tree',\n",
              " 'men',\n",
              " 'hasnt',\n",
              " 'gets',\n",
              " 'dollars',\n",
              " 'born',\n",
              " 'stopped',\n",
              " 'cut',\n",
              " 'bit',\n",
              " 'student',\n",
              " 'high',\n",
              " 'computer',\n",
              " 'white',\n",
              " 'stand',\n",
              " 'tokyo',\n",
              " 'rather',\n",
              " 'bicycle',\n",
              " 'works',\n",
              " 'trust',\n",
              " 'thinks',\n",
              " 'spent',\n",
              " 'glad',\n",
              " 'wine',\n",
              " 'miss',\n",
              " 'careful',\n",
              " 'taking',\n",
              " 'near',\n",
              " 'dogs',\n",
              " 'die',\n",
              " 'company',\n",
              " 'secret',\n",
              " 'others',\n",
              " 'birthday',\n",
              " 'lie',\n",
              " 'whether',\n",
              " 'saying',\n",
              " 'dead',\n",
              " '230',\n",
              " 'store',\n",
              " 'oclock',\n",
              " 'moment',\n",
              " 'daughter',\n",
              " 'behind',\n",
              " 'tea',\n",
              " 'speaks',\n",
              " 'flowers',\n",
              " 'clothes',\n",
              " 'hit',\n",
              " 'become',\n",
              " 'sing',\n",
              " 'plane',\n",
              " 'speaking',\n",
              " 'helped',\n",
              " 'wrote',\n",
              " 'possible',\n",
              " 'eaten',\n",
              " 'between',\n",
              " 'stayed',\n",
              " 'expensive',\n",
              " 'changed',\n",
              " 'canadian',\n",
              " 'business',\n",
              " 'wearing',\n",
              " 'rest',\n",
              " 'building',\n",
              " 'beer',\n",
              " 'maybe',\n",
              " 'takes',\n",
              " 'sunday',\n",
              " 'outside',\n",
              " 'key',\n",
              " 'girlfriend',\n",
              " 'four',\n",
              " 'paper',\n",
              " 'dress',\n",
              " 'yours',\n",
              " 'worked',\n",
              " 'advised',\n",
              " 'touch',\n",
              " 'lose',\n",
              " 'running',\n",
              " 'reason',\n",
              " 'order',\n",
              " 'needed',\n",
              " 'famous',\n",
              " 'break',\n",
              " 'whole',\n",
              " 'herself',\n",
              " 'black',\n",
              " 'asleep',\n",
              " 'strange',\n",
              " 'drunk',\n",
              " 'catch',\n",
              " 'anybody',\n",
              " 'women',\n",
              " 'wheres',\n",
              " 'quit',\n",
              " 'piano',\n",
              " 'part',\n",
              " 'pain',\n",
              " 'glasses',\n",
              " 'different',\n",
              " 'cup',\n",
              " 'trip',\n",
              " 'team',\n",
              " 'showed',\n",
              " 'raining',\n",
              " 'quickly',\n",
              " 'problems',\n",
              " 'paid',\n",
              " 'noise',\n",
              " 'hold',\n",
              " 'exactly',\n",
              " 'during',\n",
              " 'dangerous',\n",
              " 'cats',\n",
              " 'bank',\n",
              " 'library',\n",
              " 'least',\n",
              " 'ice',\n",
              " 'dictionary',\n",
              " 'words',\n",
              " 'uncle',\n",
              " 'tall',\n",
              " 'send',\n",
              " 'proud',\n",
              " 'loved',\n",
              " 'crazy',\n",
              " 'blame',\n",
              " 'worry',\n",
              " 'interested',\n",
              " 'baseball',\n",
              " 'waited',\n",
              " 'telephone',\n",
              " 'played',\n",
              " 'mistakes',\n",
              " 'floor',\n",
              " 'cook',\n",
              " 'win',\n",
              " 'strong',\n",
              " 'weight',\n",
              " 'real',\n",
              " 'probably',\n",
              " 'head',\n",
              " 'hat',\n",
              " 'air',\n",
              " 'swimming',\n",
              " 'move',\n",
              " 'lucky',\n",
              " 'heart',\n",
              " 'broken',\n",
              " 'boys',\n",
              " 'bag',\n",
              " 'agree',\n",
              " 'safe',\n",
              " 'restaurant',\n",
              " 'poor',\n",
              " 'movies',\n",
              " 'known',\n",
              " 'garden',\n",
              " 'front',\n",
              " 'walked',\n",
              " 'sound',\n",
              " 'seemed',\n",
              " 'opened',\n",
              " 'health',\n",
              " 'glass',\n",
              " 'enjoy',\n",
              " 'several',\n",
              " 'hide',\n",
              " 'hell',\n",
              " 'finally',\n",
              " 'cry',\n",
              " 'television',\n",
              " 'prefer',\n",
              " 'guitar',\n",
              " 'evening',\n",
              " 'concert',\n",
              " 'wear',\n",
              " 'united',\n",
              " 'thanks',\n",
              " 'talked',\n",
              " 'shirt',\n",
              " 'missed',\n",
              " 'explain',\n",
              " 'umbrella',\n",
              " 'choice',\n",
              " 'brought',\n",
              " 'sun',\n",
              " 'seven',\n",
              " 'sad',\n",
              " 'learned',\n",
              " 'whose',\n",
              " 'thirty',\n",
              " 'side',\n",
              " 'rules',\n",
              " 'return',\n",
              " 'radio',\n",
              " 'pass',\n",
              " 'lying',\n",
              " 'feeling',\n",
              " 'either',\n",
              " 'states',\n",
              " 'somebody',\n",
              " 'road',\n",
              " 'ok',\n",
              " 'minute',\n",
              " 'animals',\n",
              " 'shut',\n",
              " 'seeing',\n",
              " 'half',\n",
              " 'attention',\n",
              " 'smoke',\n",
              " 'leaving',\n",
              " 'crying',\n",
              " 'cost',\n",
              " 'visited',\n",
              " 'twice',\n",
              " 'meat',\n",
              " 'lawyer',\n",
              " 'forward',\n",
              " 'fishing',\n",
              " 'driving',\n",
              " 'drinking',\n",
              " 'paris',\n",
              " 'invited',\n",
              " 'danger',\n",
              " 'won',\n",
              " 'wall',\n",
              " 'solve',\n",
              " 'situation',\n",
              " 'seat',\n",
              " 'promise',\n",
              " 'guess',\n",
              " 'fine',\n",
              " 'arrive',\n",
              " 'apple',\n",
              " 'alive',\n",
              " 'kids',\n",
              " 'husband',\n",
              " 'decision',\n",
              " 'completely',\n",
              " 'closed',\n",
              " 'accept',\n",
              " 'worried',\n",
              " 'set',\n",
              " 'mad',\n",
              " 'less',\n",
              " 'expect',\n",
              " 'desk',\n",
              " 'dance',\n",
              " 'airport',\n",
              " 'winter',\n",
              " 'vacation',\n",
              " 'traffic',\n",
              " 'sleeping',\n",
              " 'sent',\n",
              " 'point',\n",
              " 'lake',\n",
              " 'follow',\n",
              " 'blue',\n",
              " 'learning',\n",
              " 'knife',\n",
              " 'younger',\n",
              " 'london',\n",
              " 'eggs',\n",
              " 'beach',\n",
              " 'abroad',\n",
              " 'writing',\n",
              " 'weekend',\n",
              " 'singing',\n",
              " 'promised',\n",
              " 'kitchen',\n",
              " 'girls',\n",
              " 'spoke',\n",
              " 'mountain',\n",
              " 'kiss',\n",
              " 'apples',\n",
              " 'shouldve',\n",
              " 'patient',\n",
              " 'passed',\n",
              " 'liked',\n",
              " 'hiding',\n",
              " 'travel',\n",
              " 'though',\n",
              " 'taken',\n",
              " 'sitting',\n",
              " 'shopping',\n",
              " 'months',\n",
              " 'impossible',\n",
              " 'guy',\n",
              " 'drank',\n",
              " 'worse',\n",
              " 'waste',\n",
              " 'wash',\n",
              " 'soccer',\n",
              " 'ship',\n",
              " 'serious',\n",
              " 'opinion',\n",
              " 'medicine',\n",
              " 'excuse',\n",
              " 'begin',\n",
              " 'also',\n",
              " 'address',\n",
              " 'written',\n",
              " 'worth',\n",
              " 'werent',\n",
              " 'ticket',\n",
              " 'second',\n",
              " 'listening',\n",
              " 'happens',\n",
              " 'coat',\n",
              " 'china',\n",
              " 'sense',\n",
              " 'hed',\n",
              " 'fight',\n",
              " 'brothers',\n",
              " 'tie',\n",
              " 'success',\n",
              " 'piece',\n",
              " 'machine',\n",
              " 'hardly',\n",
              " 'foreign',\n",
              " 'teach',\n",
              " 'languages',\n",
              " 'itll',\n",
              " 'expected',\n",
              " 'clear',\n",
              " 'walking',\n",
              " 'terrible',\n",
              " 'pick',\n",
              " 'offer',\n",
              " 'keys',\n",
              " 'grandfather',\n",
              " 'case',\n",
              " 'arm',\n",
              " 'test',\n",
              " 'pictures',\n",
              " 'pen',\n",
              " 'message',\n",
              " 'figure',\n",
              " 'church',\n",
              " 'bird',\n",
              " 'american',\n",
              " 'wake',\n",
              " 'smart',\n",
              " 'perfect',\n",
              " 'sounds',\n",
              " 'refused',\n",
              " 'horse',\n",
              " 'happening',\n",
              " 'easily',\n",
              " 'doubt',\n",
              " 'chair',\n",
              " 'across',\n",
              " 'foot',\n",
              " 'eats',\n",
              " 'choose',\n",
              " 'carefully',\n",
              " 'bread',\n",
              " 'smile',\n",
              " 'inside',\n",
              " 'france',\n",
              " 'cars',\n",
              " 'sky',\n",
              " 'save',\n",
              " 'plans',\n",
              " 'past',\n",
              " 'leaves',\n",
              " 'future',\n",
              " 'fault',\n",
              " 'deal',\n",
              " 'voice',\n",
              " 'taxi',\n",
              " 'surprise',\n",
              " 'shot',\n",
              " 'novel',\n",
              " 'mustve',\n",
              " 'gun',\n",
              " 'given',\n",
              " 'feed',\n",
              " 'cream',\n",
              " 'boyfriend',\n",
              " 'telling',\n",
              " 'suddenly',\n",
              " 'shop',\n",
              " 'lend',\n",
              " 'law',\n",
              " 'honest',\n",
              " 'enemy',\n",
              " 'cooking',\n",
              " 'york',\n",
              " 'somewhere',\n",
              " 'slowly',\n",
              " 'quiet',\n",
              " 'laughed',\n",
              " 'college',\n",
              " 'chinese',\n",
              " 'bath',\n",
              " 'stolen',\n",
              " 'standing',\n",
              " 'difference',\n",
              " 'boss',\n",
              " 'actually',\n",
              " 'sell',\n",
              " 'heavy',\n",
              " 'failed',\n",
              " 'entered',\n",
              " 'bridge',\n",
              " 'warm',\n",
              " 'share',\n",
              " 'ride',\n",
              " 'policeman',\n",
              " 'none',\n",
              " 'newspaper',\n",
              " 'necessary',\n",
              " 'guys',\n",
              " 'empty',\n",
              " 'count',\n",
              " 'sugar',\n",
              " 'prison',\n",
              " 'price',\n",
              " 'moved',\n",
              " 'mouth',\n",
              " 'hundred',\n",
              " 'funny',\n",
              " 'fat',\n",
              " 'carry',\n",
              " 'till',\n",
              " 'sign',\n",
              " 'salt',\n",
              " 'couple',\n",
              " 'trees',\n",
              " 'public',\n",
              " 'nervous',\n",
              " 'means',\n",
              " 'fly',\n",
              " 'eye',\n",
              " 'aware',\n",
              " 'weeks',\n",
              " 'wallet']"
            ]
          },
          "execution_count": 45,
          "metadata": {},
          "output_type": "execute_result"
        }
      ],
      "source": [
        "text_vec_layer_en.get_vocabulary()"
      ]
    },
    {
      "cell_type": "code",
      "execution_count": 46,
      "metadata": {
        "colab": {
          "base_uri": "https://localhost:8080/"
        },
        "id": "3lWG1UaXmuYo",
        "outputId": "486ecf8a-46f7-4a1a-d670-d4025ee8c644"
      },
      "outputs": [
        {
          "data": {
            "text/plain": [
              "array([ True])"
            ]
          },
          "execution_count": 46,
          "metadata": {},
          "output_type": "execute_result"
        }
      ],
      "source": [
        "np.in1d(\"shop\", text_vec_layer_en.get_vocabulary())"
      ]
    },
    {
      "cell_type": "code",
      "execution_count": 49,
      "metadata": {
        "colab": {
          "base_uri": "https://localhost:8080/"
        },
        "id": "Y_HC751em3is",
        "outputId": "2f95e01b-54ea-44c8-cc88-30545f316484"
      },
      "outputs": [
        {
          "data": {
            "text/plain": [
              "array([ True])"
            ]
          },
          "execution_count": 49,
          "metadata": {},
          "output_type": "execute_result"
        }
      ],
      "source": [
        "np.in1d(\"beautiful\", text_vec_layer_en.get_vocabulary())"
      ]
    },
    {
      "cell_type": "code",
      "execution_count": 50,
      "metadata": {
        "colab": {
          "base_uri": "https://localhost:8080/"
        },
        "id": "gzoWs5hynA2_",
        "outputId": "09acd093-5592-47f2-909f-2b9377091be5"
      },
      "outputs": [
        {
          "data": {
            "text/plain": [
              "array([False])"
            ]
          },
          "execution_count": 50,
          "metadata": {},
          "output_type": "execute_result"
        }
      ],
      "source": [
        "np.in1d(\"bonitas\", text_vec_layer_es.get_vocabulary())"
      ]
    },
    {
      "cell_type": "markdown",
      "metadata": {
        "id": "5ov8c7UzrtMX"
      },
      "source": [
        "Vamos a ver mejoras que además nos vayan adelantando conceptos para llegar a los LLN"
      ]
    },
    {
      "cell_type": "markdown",
      "metadata": {
        "id": "-RreDpT8rtMX"
      },
      "source": [
        "## Bidirectional RNNs"
      ]
    },
    {
      "cell_type": "markdown",
      "metadata": {
        "id": "zudtQcm1rtMX"
      },
      "source": [
        "Extra\n",
        "\n",
        "Una red recurrente bidireccional es la que lee la secuencia tanto de izquierda a derecha como de derecha a izquierda y procesa ambas secuencias en conjunto. Ojo: la secuencia de entrada.\n",
        "\n",
        "En general es como tener una capa que mira en un sentido y otra en el otro y concatenar luego sus salidas"
      ]
    },
    {
      "cell_type": "markdown",
      "metadata": {
        "id": "kSNm3wlTrtMX"
      },
      "source": [
        "<img src=\"img/bidirectionalrnn.jpg\" alt=\"Bidirectional RNN\" width=\"700\" />"
      ]
    },
    {
      "cell_type": "markdown",
      "metadata": {
        "id": "xzxTTMFzrtMX"
      },
      "source": [
        "¿Por qué y para qué? Porque, por ejemplo, hay frases que para traducirlas necesitas ver que viene después, como en el caso de los adjetivos en inglés que anteceden al nombre y de los sinónimos en un idioma que no coinciden necesariamente con los sinónimos en otro: the left arm, the left party, they left the restaurant...\n"
      ]
    },
    {
      "cell_type": "code",
      "execution_count": 64,
      "metadata": {
        "colab": {
          "base_uri": "https://localhost:8080/",
          "height": 519
        },
        "id": "Q8OW1b3uoxS8",
        "outputId": "569a576a-a83c-4c8a-d3c9-f498ca1a15b6"
      },
      "outputs": [
        {
          "data": {
            "text/html": [
              "<pre style=\"white-space:pre;overflow-x:auto;line-height:normal;font-family:Menlo,'DejaVu Sans Mono',consolas,'Courier New',monospace\"><span style=\"font-weight: bold\">Model: \"functional_1\"</span>\n",
              "</pre>\n"
            ],
            "text/plain": [
              "\u001b[1mModel: \"functional_1\"\u001b[0m\n"
            ]
          },
          "metadata": {},
          "output_type": "display_data"
        },
        {
          "data": {
            "text/html": [
              "<pre style=\"white-space:pre;overflow-x:auto;line-height:normal;font-family:Menlo,'DejaVu Sans Mono',consolas,'Courier New',monospace\">┏━━━━━━━━━━━━━━━━━━━━━━━━━━━┳━━━━━━━━━━━━━━━━━━━━━━━━┳━━━━━━━━━━━━━━━━┳━━━━━━━━━━━━━━━━━━━━━━━━┓\n",
              "┃<span style=\"font-weight: bold\"> Layer (type)              </span>┃<span style=\"font-weight: bold\"> Output Shape           </span>┃<span style=\"font-weight: bold\">        Param # </span>┃<span style=\"font-weight: bold\"> Connected to           </span>┃\n",
              "┡━━━━━━━━━━━━━━━━━━━━━━━━━━━╇━━━━━━━━━━━━━━━━━━━━━━━━╇━━━━━━━━━━━━━━━━╇━━━━━━━━━━━━━━━━━━━━━━━━┩\n",
              "│ input_layer_5             │ (<span style=\"color: #00d7ff; text-decoration-color: #00d7ff\">None</span>)                 │              <span style=\"color: #00af00; text-decoration-color: #00af00\">0</span> │ -                      │\n",
              "│ (<span style=\"color: #0087ff; text-decoration-color: #0087ff\">InputLayer</span>)              │                        │                │                        │\n",
              "├───────────────────────────┼────────────────────────┼────────────────┼────────────────────────┤\n",
              "│ text_vectorization        │ (<span style=\"color: #00d7ff; text-decoration-color: #00d7ff\">None</span>, <span style=\"color: #00af00; text-decoration-color: #00af00\">50</span>)             │              <span style=\"color: #00af00; text-decoration-color: #00af00\">0</span> │ input_layer_5[<span style=\"color: #00af00; text-decoration-color: #00af00\">0</span>][<span style=\"color: #00af00; text-decoration-color: #00af00\">0</span>]    │\n",
              "│ (<span style=\"color: #0087ff; text-decoration-color: #0087ff\">TextVectorization</span>)       │                        │                │                        │\n",
              "├───────────────────────────┼────────────────────────┼────────────────┼────────────────────────┤\n",
              "│ embedding_5 (<span style=\"color: #0087ff; text-decoration-color: #0087ff\">Embedding</span>)   │ (<span style=\"color: #00d7ff; text-decoration-color: #00d7ff\">None</span>, <span style=\"color: #00af00; text-decoration-color: #00af00\">50</span>, <span style=\"color: #00af00; text-decoration-color: #00af00\">128</span>)        │        <span style=\"color: #00af00; text-decoration-color: #00af00\">128,000</span> │ text_vectorization[<span style=\"color: #00af00; text-decoration-color: #00af00\">4</span>]… │\n",
              "├───────────────────────────┼────────────────────────┼────────────────┼────────────────────────┤\n",
              "│ not_equal_5 (<span style=\"color: #0087ff; text-decoration-color: #0087ff\">NotEqual</span>)    │ (<span style=\"color: #00d7ff; text-decoration-color: #00d7ff\">None</span>, <span style=\"color: #00af00; text-decoration-color: #00af00\">50</span>)             │              <span style=\"color: #00af00; text-decoration-color: #00af00\">0</span> │ text_vectorization[<span style=\"color: #00af00; text-decoration-color: #00af00\">4</span>]… │\n",
              "├───────────────────────────┼────────────────────────┼────────────────┼────────────────────────┤\n",
              "│ bidirectional             │ (<span style=\"color: #00d7ff; text-decoration-color: #00d7ff\">None</span>, <span style=\"color: #00af00; text-decoration-color: #00af00\">512</span>)            │        <span style=\"color: #00af00; text-decoration-color: #00af00\">788,480</span> │ embedding_5[<span style=\"color: #00af00; text-decoration-color: #00af00\">0</span>][<span style=\"color: #00af00; text-decoration-color: #00af00\">0</span>],     │\n",
              "│ (<span style=\"color: #0087ff; text-decoration-color: #0087ff\">Bidirectional</span>)           │                        │                │ not_equal_5[<span style=\"color: #00af00; text-decoration-color: #00af00\">0</span>][<span style=\"color: #00af00; text-decoration-color: #00af00\">0</span>]      │\n",
              "├───────────────────────────┼────────────────────────┼────────────────┼────────────────────────┤\n",
              "│ repeat_vector_3           │ (<span style=\"color: #00d7ff; text-decoration-color: #00d7ff\">None</span>, <span style=\"color: #00af00; text-decoration-color: #00af00\">50</span>, <span style=\"color: #00af00; text-decoration-color: #00af00\">512</span>)        │              <span style=\"color: #00af00; text-decoration-color: #00af00\">0</span> │ bidirectional[<span style=\"color: #00af00; text-decoration-color: #00af00\">0</span>][<span style=\"color: #00af00; text-decoration-color: #00af00\">0</span>]    │\n",
              "│ (<span style=\"color: #0087ff; text-decoration-color: #0087ff\">RepeatVector</span>)            │                        │                │                        │\n",
              "├───────────────────────────┼────────────────────────┼────────────────┼────────────────────────┤\n",
              "│ lstm_6 (<span style=\"color: #0087ff; text-decoration-color: #0087ff\">LSTM</span>)             │ (<span style=\"color: #00d7ff; text-decoration-color: #00d7ff\">None</span>, <span style=\"color: #00af00; text-decoration-color: #00af00\">50</span>, <span style=\"color: #00af00; text-decoration-color: #00af00\">512</span>)        │      <span style=\"color: #00af00; text-decoration-color: #00af00\">2,099,200</span> │ repeat_vector_3[<span style=\"color: #00af00; text-decoration-color: #00af00\">0</span>][<span style=\"color: #00af00; text-decoration-color: #00af00\">0</span>]  │\n",
              "├───────────────────────────┼────────────────────────┼────────────────┼────────────────────────┤\n",
              "│ input_layer_6             │ (<span style=\"color: #00d7ff; text-decoration-color: #00d7ff\">None</span>)                 │              <span style=\"color: #00af00; text-decoration-color: #00af00\">0</span> │ -                      │\n",
              "│ (<span style=\"color: #0087ff; text-decoration-color: #0087ff\">InputLayer</span>)              │                        │                │                        │\n",
              "├───────────────────────────┼────────────────────────┼────────────────┼────────────────────────┤\n",
              "│ dense_1 (<span style=\"color: #0087ff; text-decoration-color: #0087ff\">Dense</span>)           │ (<span style=\"color: #00d7ff; text-decoration-color: #00d7ff\">None</span>, <span style=\"color: #00af00; text-decoration-color: #00af00\">50</span>, <span style=\"color: #00af00; text-decoration-color: #00af00\">1000</span>)       │        <span style=\"color: #00af00; text-decoration-color: #00af00\">513,000</span> │ lstm_6[<span style=\"color: #00af00; text-decoration-color: #00af00\">0</span>][<span style=\"color: #00af00; text-decoration-color: #00af00\">0</span>]           │\n",
              "└───────────────────────────┴────────────────────────┴────────────────┴────────────────────────┘\n",
              "</pre>\n"
            ],
            "text/plain": [
              "┏━━━━━━━━━━━━━━━━━━━━━━━━━━━┳━━━━━━━━━━━━━━━━━━━━━━━━┳━━━━━━━━━━━━━━━━┳━━━━━━━━━━━━━━━━━━━━━━━━┓\n",
              "┃\u001b[1m \u001b[0m\u001b[1mLayer (type)             \u001b[0m\u001b[1m \u001b[0m┃\u001b[1m \u001b[0m\u001b[1mOutput Shape          \u001b[0m\u001b[1m \u001b[0m┃\u001b[1m \u001b[0m\u001b[1m       Param #\u001b[0m\u001b[1m \u001b[0m┃\u001b[1m \u001b[0m\u001b[1mConnected to          \u001b[0m\u001b[1m \u001b[0m┃\n",
              "┡━━━━━━━━━━━━━━━━━━━━━━━━━━━╇━━━━━━━━━━━━━━━━━━━━━━━━╇━━━━━━━━━━━━━━━━╇━━━━━━━━━━━━━━━━━━━━━━━━┩\n",
              "│ input_layer_5             │ (\u001b[38;5;45mNone\u001b[0m)                 │              \u001b[38;5;34m0\u001b[0m │ -                      │\n",
              "│ (\u001b[38;5;33mInputLayer\u001b[0m)              │                        │                │                        │\n",
              "├───────────────────────────┼────────────────────────┼────────────────┼────────────────────────┤\n",
              "│ text_vectorization        │ (\u001b[38;5;45mNone\u001b[0m, \u001b[38;5;34m50\u001b[0m)             │              \u001b[38;5;34m0\u001b[0m │ input_layer_5[\u001b[38;5;34m0\u001b[0m][\u001b[38;5;34m0\u001b[0m]    │\n",
              "│ (\u001b[38;5;33mTextVectorization\u001b[0m)       │                        │                │                        │\n",
              "├───────────────────────────┼────────────────────────┼────────────────┼────────────────────────┤\n",
              "│ embedding_5 (\u001b[38;5;33mEmbedding\u001b[0m)   │ (\u001b[38;5;45mNone\u001b[0m, \u001b[38;5;34m50\u001b[0m, \u001b[38;5;34m128\u001b[0m)        │        \u001b[38;5;34m128,000\u001b[0m │ text_vectorization[\u001b[38;5;34m4\u001b[0m]… │\n",
              "├───────────────────────────┼────────────────────────┼────────────────┼────────────────────────┤\n",
              "│ not_equal_5 (\u001b[38;5;33mNotEqual\u001b[0m)    │ (\u001b[38;5;45mNone\u001b[0m, \u001b[38;5;34m50\u001b[0m)             │              \u001b[38;5;34m0\u001b[0m │ text_vectorization[\u001b[38;5;34m4\u001b[0m]… │\n",
              "├───────────────────────────┼────────────────────────┼────────────────┼────────────────────────┤\n",
              "│ bidirectional             │ (\u001b[38;5;45mNone\u001b[0m, \u001b[38;5;34m512\u001b[0m)            │        \u001b[38;5;34m788,480\u001b[0m │ embedding_5[\u001b[38;5;34m0\u001b[0m][\u001b[38;5;34m0\u001b[0m],     │\n",
              "│ (\u001b[38;5;33mBidirectional\u001b[0m)           │                        │                │ not_equal_5[\u001b[38;5;34m0\u001b[0m][\u001b[38;5;34m0\u001b[0m]      │\n",
              "├───────────────────────────┼────────────────────────┼────────────────┼────────────────────────┤\n",
              "│ repeat_vector_3           │ (\u001b[38;5;45mNone\u001b[0m, \u001b[38;5;34m50\u001b[0m, \u001b[38;5;34m512\u001b[0m)        │              \u001b[38;5;34m0\u001b[0m │ bidirectional[\u001b[38;5;34m0\u001b[0m][\u001b[38;5;34m0\u001b[0m]    │\n",
              "│ (\u001b[38;5;33mRepeatVector\u001b[0m)            │                        │                │                        │\n",
              "├───────────────────────────┼────────────────────────┼────────────────┼────────────────────────┤\n",
              "│ lstm_6 (\u001b[38;5;33mLSTM\u001b[0m)             │ (\u001b[38;5;45mNone\u001b[0m, \u001b[38;5;34m50\u001b[0m, \u001b[38;5;34m512\u001b[0m)        │      \u001b[38;5;34m2,099,200\u001b[0m │ repeat_vector_3[\u001b[38;5;34m0\u001b[0m][\u001b[38;5;34m0\u001b[0m]  │\n",
              "├───────────────────────────┼────────────────────────┼────────────────┼────────────────────────┤\n",
              "│ input_layer_6             │ (\u001b[38;5;45mNone\u001b[0m)                 │              \u001b[38;5;34m0\u001b[0m │ -                      │\n",
              "│ (\u001b[38;5;33mInputLayer\u001b[0m)              │                        │                │                        │\n",
              "├───────────────────────────┼────────────────────────┼────────────────┼────────────────────────┤\n",
              "│ dense_1 (\u001b[38;5;33mDense\u001b[0m)           │ (\u001b[38;5;45mNone\u001b[0m, \u001b[38;5;34m50\u001b[0m, \u001b[38;5;34m1000\u001b[0m)       │        \u001b[38;5;34m513,000\u001b[0m │ lstm_6[\u001b[38;5;34m0\u001b[0m][\u001b[38;5;34m0\u001b[0m]           │\n",
              "└───────────────────────────┴────────────────────────┴────────────────┴────────────────────────┘\n"
            ]
          },
          "metadata": {},
          "output_type": "display_data"
        },
        {
          "data": {
            "text/html": [
              "<pre style=\"white-space:pre;overflow-x:auto;line-height:normal;font-family:Menlo,'DejaVu Sans Mono',consolas,'Courier New',monospace\"><span style=\"font-weight: bold\"> Total params: </span><span style=\"color: #00af00; text-decoration-color: #00af00\">3,528,680</span> (13.46 MB)\n",
              "</pre>\n"
            ],
            "text/plain": [
              "\u001b[1m Total params: \u001b[0m\u001b[38;5;34m3,528,680\u001b[0m (13.46 MB)\n"
            ]
          },
          "metadata": {},
          "output_type": "display_data"
        },
        {
          "data": {
            "text/html": [
              "<pre style=\"white-space:pre;overflow-x:auto;line-height:normal;font-family:Menlo,'DejaVu Sans Mono',consolas,'Courier New',monospace\"><span style=\"font-weight: bold\"> Trainable params: </span><span style=\"color: #00af00; text-decoration-color: #00af00\">3,528,680</span> (13.46 MB)\n",
              "</pre>\n"
            ],
            "text/plain": [
              "\u001b[1m Trainable params: \u001b[0m\u001b[38;5;34m3,528,680\u001b[0m (13.46 MB)\n"
            ]
          },
          "metadata": {},
          "output_type": "display_data"
        },
        {
          "data": {
            "text/html": [
              "<pre style=\"white-space:pre;overflow-x:auto;line-height:normal;font-family:Menlo,'DejaVu Sans Mono',consolas,'Courier New',monospace\"><span style=\"font-weight: bold\"> Non-trainable params: </span><span style=\"color: #00af00; text-decoration-color: #00af00\">0</span> (0.00 B)\n",
              "</pre>\n"
            ],
            "text/plain": [
              "\u001b[1m Non-trainable params: \u001b[0m\u001b[38;5;34m0\u001b[0m (0.00 B)\n"
            ]
          },
          "metadata": {},
          "output_type": "display_data"
        }
      ],
      "source": [
        "embed_size = 128\n",
        "\n",
        "# Layer 1 & 2 of Encoder\n",
        "encoder_inputs     = tf.keras.layers.Input(shape=[], dtype=tf.string)\n",
        "encoder_input_ids  = text_vec_layer_en(encoder_inputs)\n",
        "encoder_embeddings = tf.keras.layers.Embedding(vocab_size, embed_size,mask_zero=True)(encoder_input_ids)\n",
        "encoder = tf.keras.layers.Bidirectional(tf.keras.layers.LSTM(256))(encoder_embeddings)\n",
        "r_vec = RepeatVector(n=max_length)(encoder) # este sí, con el repeatVector funciona\n",
        "\n",
        "# Layer 1 & 2 of Decoder\n",
        "decoder_inputs     = tf.keras.layers.Input(shape=[], dtype=tf.string)\n",
        "decoder_input_ids  = text_vec_layer_es(decoder_inputs)\n",
        "decoder_embeddings = tf.keras.layers.Embedding(vocab_size, embed_size,mask_zero=True)(decoder_input_ids)\n",
        "decoder_outputs    = tf.keras.layers.LSTM(512, return_sequences=True, dropout=0.2)(r_vec)\n",
        "\n",
        "# Layer 3 of Decoder\n",
        "Y_proba = tf.keras.layers.Dense(vocab_size, activation=\"softmax\")(decoder_outputs)\n",
        "\n",
        "model_bidirectional = tf.keras.Model(inputs=[encoder_inputs, decoder_inputs],outputs=[Y_proba])\n",
        "model_bidirectional.compile(loss=\"sparse_categorical_crossentropy\", optimizer=\"nadam\", metrics=[\"accuracy\"])\n",
        "model_bidirectional.summary()"
      ]
    },
    {
      "cell_type": "code",
      "execution_count": 65,
      "metadata": {
        "id": "gkoB5o9Np1bY"
      },
      "outputs": [],
      "source": [
        "checkpoint_filepath_bidirectional = './tmp/ckpt/checkpoint.model_bidirectional.keras'\n",
        "model_checkpoint_callback_bidirectional = tf.keras.callbacks.ModelCheckpoint(\n",
        "    filepath=checkpoint_filepath_bidirectional,\n",
        "    monitor='val_loss',\n",
        "    mode='min',\n",
        "    save_best_only=True)"
      ]
    },
    {
      "cell_type": "code",
      "execution_count": 66,
      "metadata": {
        "colab": {
          "base_uri": "https://localhost:8080/"
        },
        "id": "0VfGA9aApyNa",
        "outputId": "0d328bb7-2a1d-4ddf-9449-2d8bc856ef7a"
      },
      "outputs": [
        {
          "name": "stdout",
          "output_type": "stream",
          "text": [
            "Epoch 1/100\n",
            "\u001b[1m3125/3125\u001b[0m \u001b[32m━━━━━━━━━━━━━━━━━━━━\u001b[0m\u001b[37m\u001b[0m \u001b[1m86s\u001b[0m 26ms/step - accuracy: 0.8808 - loss: 0.7063 - val_accuracy: 0.8992 - val_loss: 0.4767\n",
            "Epoch 2/100\n",
            "\u001b[1m3125/3125\u001b[0m \u001b[32m━━━━━━━━━━━━━━━━━━━━\u001b[0m\u001b[37m\u001b[0m \u001b[1m138s\u001b[0m 25ms/step - accuracy: 0.9020 - loss: 0.4453 - val_accuracy: 0.9085 - val_loss: 0.3859\n",
            "Epoch 3/100\n",
            "\u001b[1m3125/3125\u001b[0m \u001b[32m━━━━━━━━━━━━━━━━━━━━\u001b[0m\u001b[37m\u001b[0m \u001b[1m78s\u001b[0m 24ms/step - accuracy: 0.9106 - loss: 0.3672 - val_accuracy: 0.9120 - val_loss: 0.3547\n",
            "Epoch 4/100\n",
            "\u001b[1m3125/3125\u001b[0m \u001b[32m━━━━━━━━━━━━━━━━━━━━\u001b[0m\u001b[37m\u001b[0m \u001b[1m82s\u001b[0m 24ms/step - accuracy: 0.9162 - loss: 0.3281 - val_accuracy: 0.9151 - val_loss: 0.3373\n",
            "Epoch 5/100\n",
            "\u001b[1m3125/3125\u001b[0m \u001b[32m━━━━━━━━━━━━━━━━━━━━\u001b[0m\u001b[37m\u001b[0m \u001b[1m83s\u001b[0m 24ms/step - accuracy: 0.9198 - loss: 0.3059 - val_accuracy: 0.9165 - val_loss: 0.3291\n",
            "Epoch 6/100\n",
            "\u001b[1m3125/3125\u001b[0m \u001b[32m━━━━━━━━━━━━━━━━━━━━\u001b[0m\u001b[37m\u001b[0m \u001b[1m81s\u001b[0m 24ms/step - accuracy: 0.9223 - loss: 0.2889 - val_accuracy: 0.9174 - val_loss: 0.3256\n",
            "Epoch 7/100\n",
            "\u001b[1m3125/3125\u001b[0m \u001b[32m━━━━━━━━━━━━━━━━━━━━\u001b[0m\u001b[37m\u001b[0m \u001b[1m82s\u001b[0m 24ms/step - accuracy: 0.9250 - loss: 0.2739 - val_accuracy: 0.9180 - val_loss: 0.3233\n",
            "Epoch 8/100\n",
            "\u001b[1m3125/3125\u001b[0m \u001b[32m━━━━━━━━━━━━━━━━━━━━\u001b[0m\u001b[37m\u001b[0m \u001b[1m82s\u001b[0m 24ms/step - accuracy: 0.9278 - loss: 0.2605 - val_accuracy: 0.9176 - val_loss: 0.3241\n",
            "Epoch 9/100\n",
            "\u001b[1m3125/3125\u001b[0m \u001b[32m━━━━━━━━━━━━━━━━━━━━\u001b[0m\u001b[37m\u001b[0m \u001b[1m82s\u001b[0m 24ms/step - accuracy: 0.9297 - loss: 0.2502 - val_accuracy: 0.9188 - val_loss: 0.3241\n",
            "Epoch 10/100\n",
            "\u001b[1m3125/3125\u001b[0m \u001b[32m━━━━━━━━━━━━━━━━━━━━\u001b[0m\u001b[37m\u001b[0m \u001b[1m83s\u001b[0m 24ms/step - accuracy: 0.9323 - loss: 0.2386 - val_accuracy: 0.9184 - val_loss: 0.3273\n",
            "Epoch 11/100\n",
            "\u001b[1m3125/3125\u001b[0m \u001b[32m━━━━━━━━━━━━━━━━━━━━\u001b[0m\u001b[37m\u001b[0m \u001b[1m81s\u001b[0m 24ms/step - accuracy: 0.9343 - loss: 0.2293 - val_accuracy: 0.9183 - val_loss: 0.3306\n",
            "Epoch 12/100\n",
            "\u001b[1m3125/3125\u001b[0m \u001b[32m━━━━━━━━━━━━━━━━━━━━\u001b[0m\u001b[37m\u001b[0m \u001b[1m76s\u001b[0m 24ms/step - accuracy: 0.9360 - loss: 0.2215 - val_accuracy: 0.9180 - val_loss: 0.3342\n",
            "Epoch 13/100\n",
            "\u001b[1m3125/3125\u001b[0m \u001b[32m━━━━━━━━━━━━━━━━━━━━\u001b[0m\u001b[37m\u001b[0m \u001b[1m82s\u001b[0m 24ms/step - accuracy: 0.9375 - loss: 0.2150 - val_accuracy: 0.9182 - val_loss: 0.3384\n",
            "Epoch 14/100\n",
            "\u001b[1m3125/3125\u001b[0m \u001b[32m━━━━━━━━━━━━━━━━━━━━\u001b[0m\u001b[37m\u001b[0m \u001b[1m82s\u001b[0m 24ms/step - accuracy: 0.9391 - loss: 0.2083 - val_accuracy: 0.9182 - val_loss: 0.3422\n",
            "Epoch 15/100\n",
            "\u001b[1m3125/3125\u001b[0m \u001b[32m━━━━━━━━━━━━━━━━━━━━\u001b[0m\u001b[37m\u001b[0m \u001b[1m76s\u001b[0m 24ms/step - accuracy: 0.9405 - loss: 0.2022 - val_accuracy: 0.9180 - val_loss: 0.3440\n",
            "Epoch 16/100\n",
            "\u001b[1m3125/3125\u001b[0m \u001b[32m━━━━━━━━━━━━━━━━━━━━\u001b[0m\u001b[37m\u001b[0m \u001b[1m81s\u001b[0m 24ms/step - accuracy: 0.9414 - loss: 0.1973 - val_accuracy: 0.9178 - val_loss: 0.3479\n",
            "Epoch 17/100\n",
            "\u001b[1m3125/3125\u001b[0m \u001b[32m━━━━━━━━━━━━━━━━━━━━\u001b[0m\u001b[37m\u001b[0m \u001b[1m82s\u001b[0m 24ms/step - accuracy: 0.9432 - loss: 0.1911 - val_accuracy: 0.9176 - val_loss: 0.3499\n"
          ]
        },
        {
          "data": {
            "text/plain": [
              "<keras.src.callbacks.history.History at 0x7ce551f648b0>"
            ]
          },
          "execution_count": 66,
          "metadata": {},
          "output_type": "execute_result"
        }
      ],
      "source": [
        "model_bidirectional.fit((X_train, X_train_dec), Y_train, epochs=100,\n",
        "          validation_data=((X_valid, X_valid_dec), Y_valid), callbacks=[model_checkpoint_callback_bidirectional, early_stopping_callback])"
      ]
    },
    {
      "cell_type": "code",
      "execution_count": 70,
      "metadata": {
        "id": "A94bYNY0xx4i"
      },
      "outputs": [],
      "source": [
        "def translate_bidirectional(sentence_en):\n",
        "    translation = \"\"\n",
        "    for word_idx in range(max_length):\n",
        "        X = np.array([sentence_en])  # encoder input\n",
        "        X_dec = np.array([\"startofseq \" + translation])  # decoder input\n",
        "        y_probs = model_bidirectional.predict((X.astype(object), X_dec.astype(object)))\n",
        "        y_proba = y_probs[0, word_idx]  # last token's probas\n",
        "        predicted_word_id = np.argmax(y_proba)\n",
        "        predicted_proba = round(float(y_proba[predicted_word_id]),3)\n",
        "        predicted_word = text_vec_layer_es.get_vocabulary()[predicted_word_id]\n",
        "        if predicted_word == \"endofseq\":\n",
        "            break\n",
        "        translation += \" \" + predicted_word\n",
        "        print(f\"{translation}({predicted_proba})\")\n",
        "    return translation.strip()"
      ]
    },
    {
      "cell_type": "markdown",
      "metadata": {
        "id": "8kdGZV5FrtMX"
      },
      "source": [
        "Para crear un capa recurrente bidireccional, se hace lo siguiente (encapsular una recurrente en una más genérica denominada Bidirectional)"
      ]
    },
    {
      "cell_type": "markdown",
      "metadata": {
        "id": "JrN_tlVyrtMY"
      },
      "source": [
        "En el caso del decoder no podemos hacer lo mismo porque en el target mirar al futuro sí es hacer trampa (recordemos que hasta ahora le pasamos la palabra que correspondería a la palabra esperada anterior, o sea no hacemos trampa), y por tanto no serviría para predecir algo que no hubiera visto (de hecho no podríamos construir una entrada para predecir de forma correcta)"
      ]
    },
    {
      "cell_type": "markdown",
      "metadata": {
        "id": "Jle372OvrtMY"
      },
      "source": [
        "Pero, la recurrente bidireccional produce el doble de estados ocultos. Como se trata de una lstm tendremos dos hidden_state y dos cell_state, aunque el decoder sólo espera dos (porque es otra LSTM)"
      ]
    },
    {
      "cell_type": "code",
      "execution_count": 97,
      "metadata": {
        "colab": {
          "base_uri": "https://localhost:8080/",
          "height": 1000
        },
        "id": "qUG81j9YrtMc",
        "outputId": "91f4c7c7-c018-447b-8952-cad291dfabf4"
      },
      "outputs": [
        {
          "name": "stdout",
          "output_type": "stream",
          "text": [
            "\u001b[1m1/1\u001b[0m \u001b[32m━━━━━━━━━━━━━━━━━━━━\u001b[0m\u001b[37m\u001b[0m \u001b[1m0s\u001b[0m 20ms/step\n",
            " quiero(0.659)\n",
            "\u001b[1m1/1\u001b[0m \u001b[32m━━━━━━━━━━━━━━━━━━━━\u001b[0m\u001b[37m\u001b[0m \u001b[1m0s\u001b[0m 19ms/step\n",
            " quiero leer(0.441)\n",
            "\u001b[1m1/1\u001b[0m \u001b[32m━━━━━━━━━━━━━━━━━━━━\u001b[0m\u001b[37m\u001b[0m \u001b[1m0s\u001b[0m 19ms/step\n",
            " quiero leer un(0.483)\n",
            "\u001b[1m1/1\u001b[0m \u001b[32m━━━━━━━━━━━━━━━━━━━━\u001b[0m\u001b[37m\u001b[0m \u001b[1m0s\u001b[0m 20ms/step\n",
            " quiero leer un libro(0.798)\n",
            "\u001b[1m1/1\u001b[0m \u001b[32m━━━━━━━━━━━━━━━━━━━━\u001b[0m\u001b[37m\u001b[0m \u001b[1m0s\u001b[0m 21ms/step\n",
            " quiero leer un libro libro(0.495)\n",
            "\u001b[1m1/1\u001b[0m \u001b[32m━━━━━━━━━━━━━━━━━━━━\u001b[0m\u001b[37m\u001b[0m \u001b[1m0s\u001b[0m 22ms/step\n",
            " quiero leer un libro libro libro(0.83)\n",
            "\u001b[1m1/1\u001b[0m \u001b[32m━━━━━━━━━━━━━━━━━━━━\u001b[0m\u001b[37m\u001b[0m \u001b[1m0s\u001b[0m 23ms/step\n",
            " quiero leer un libro libro libro (0.755)\n",
            "\u001b[1m1/1\u001b[0m \u001b[32m━━━━━━━━━━━━━━━━━━━━\u001b[0m\u001b[37m\u001b[0m \u001b[1m0s\u001b[0m 21ms/step\n",
            " quiero leer un libro libro libro  (0.997)\n",
            "\u001b[1m1/1\u001b[0m \u001b[32m━━━━━━━━━━━━━━━━━━━━\u001b[0m\u001b[37m\u001b[0m \u001b[1m0s\u001b[0m 18ms/step\n",
            " quiero leer un libro libro libro   (1.0)\n",
            "\u001b[1m1/1\u001b[0m \u001b[32m━━━━━━━━━━━━━━━━━━━━\u001b[0m\u001b[37m\u001b[0m \u001b[1m0s\u001b[0m 18ms/step\n",
            " quiero leer un libro libro libro    (1.0)\n",
            "\u001b[1m1/1\u001b[0m \u001b[32m━━━━━━━━━━━━━━━━━━━━\u001b[0m\u001b[37m\u001b[0m \u001b[1m0s\u001b[0m 18ms/step\n",
            " quiero leer un libro libro libro     (1.0)\n",
            "\u001b[1m1/1\u001b[0m \u001b[32m━━━━━━━━━━━━━━━━━━━━\u001b[0m\u001b[37m\u001b[0m \u001b[1m0s\u001b[0m 22ms/step\n",
            " quiero leer un libro libro libro      (1.0)\n",
            "\u001b[1m1/1\u001b[0m \u001b[32m━━━━━━━━━━━━━━━━━━━━\u001b[0m\u001b[37m\u001b[0m \u001b[1m0s\u001b[0m 37ms/step\n",
            " quiero leer un libro libro libro       (1.0)\n",
            "\u001b[1m1/1\u001b[0m \u001b[32m━━━━━━━━━━━━━━━━━━━━\u001b[0m\u001b[37m\u001b[0m \u001b[1m0s\u001b[0m 32ms/step\n",
            " quiero leer un libro libro libro        (1.0)\n",
            "\u001b[1m1/1\u001b[0m \u001b[32m━━━━━━━━━━━━━━━━━━━━\u001b[0m\u001b[37m\u001b[0m \u001b[1m0s\u001b[0m 32ms/step\n",
            " quiero leer un libro libro libro         (1.0)\n",
            "\u001b[1m1/1\u001b[0m \u001b[32m━━━━━━━━━━━━━━━━━━━━\u001b[0m\u001b[37m\u001b[0m \u001b[1m0s\u001b[0m 28ms/step\n",
            " quiero leer un libro libro libro          (1.0)\n",
            "\u001b[1m1/1\u001b[0m \u001b[32m━━━━━━━━━━━━━━━━━━━━\u001b[0m\u001b[37m\u001b[0m \u001b[1m0s\u001b[0m 37ms/step\n",
            " quiero leer un libro libro libro           (1.0)\n",
            "\u001b[1m1/1\u001b[0m \u001b[32m━━━━━━━━━━━━━━━━━━━━\u001b[0m\u001b[37m\u001b[0m \u001b[1m0s\u001b[0m 31ms/step\n",
            " quiero leer un libro libro libro            (1.0)\n",
            "\u001b[1m1/1\u001b[0m \u001b[32m━━━━━━━━━━━━━━━━━━━━\u001b[0m\u001b[37m\u001b[0m \u001b[1m0s\u001b[0m 32ms/step\n",
            " quiero leer un libro libro libro             (1.0)\n",
            "\u001b[1m1/1\u001b[0m \u001b[32m━━━━━━━━━━━━━━━━━━━━\u001b[0m\u001b[37m\u001b[0m \u001b[1m0s\u001b[0m 27ms/step\n",
            " quiero leer un libro libro libro              (1.0)\n",
            "\u001b[1m1/1\u001b[0m \u001b[32m━━━━━━━━━━━━━━━━━━━━\u001b[0m\u001b[37m\u001b[0m \u001b[1m0s\u001b[0m 28ms/step\n",
            " quiero leer un libro libro libro               (1.0)\n",
            "\u001b[1m1/1\u001b[0m \u001b[32m━━━━━━━━━━━━━━━━━━━━\u001b[0m\u001b[37m\u001b[0m \u001b[1m0s\u001b[0m 28ms/step\n",
            " quiero leer un libro libro libro                (1.0)\n",
            "\u001b[1m1/1\u001b[0m \u001b[32m━━━━━━━━━━━━━━━━━━━━\u001b[0m\u001b[37m\u001b[0m \u001b[1m0s\u001b[0m 33ms/step\n",
            " quiero leer un libro libro libro                 (1.0)\n",
            "\u001b[1m1/1\u001b[0m \u001b[32m━━━━━━━━━━━━━━━━━━━━\u001b[0m\u001b[37m\u001b[0m \u001b[1m0s\u001b[0m 28ms/step\n",
            " quiero leer un libro libro libro                  (1.0)\n",
            "\u001b[1m1/1\u001b[0m \u001b[32m━━━━━━━━━━━━━━━━━━━━\u001b[0m\u001b[37m\u001b[0m \u001b[1m0s\u001b[0m 26ms/step\n",
            " quiero leer un libro libro libro                   (1.0)\n",
            "\u001b[1m1/1\u001b[0m \u001b[32m━━━━━━━━━━━━━━━━━━━━\u001b[0m\u001b[37m\u001b[0m \u001b[1m0s\u001b[0m 28ms/step\n",
            " quiero leer un libro libro libro                    (1.0)\n",
            "\u001b[1m1/1\u001b[0m \u001b[32m━━━━━━━━━━━━━━━━━━━━\u001b[0m\u001b[37m\u001b[0m \u001b[1m0s\u001b[0m 35ms/step\n",
            " quiero leer un libro libro libro                     (1.0)\n",
            "\u001b[1m1/1\u001b[0m \u001b[32m━━━━━━━━━━━━━━━━━━━━\u001b[0m\u001b[37m\u001b[0m \u001b[1m0s\u001b[0m 40ms/step\n",
            " quiero leer un libro libro libro                      (1.0)\n",
            "\u001b[1m1/1\u001b[0m \u001b[32m━━━━━━━━━━━━━━━━━━━━\u001b[0m\u001b[37m\u001b[0m \u001b[1m0s\u001b[0m 40ms/step\n",
            " quiero leer un libro libro libro                       (1.0)\n",
            "\u001b[1m1/1\u001b[0m \u001b[32m━━━━━━━━━━━━━━━━━━━━\u001b[0m\u001b[37m\u001b[0m \u001b[1m0s\u001b[0m 32ms/step\n",
            " quiero leer un libro libro libro                        (1.0)\n",
            "\u001b[1m1/1\u001b[0m \u001b[32m━━━━━━━━━━━━━━━━━━━━\u001b[0m\u001b[37m\u001b[0m \u001b[1m0s\u001b[0m 32ms/step\n",
            " quiero leer un libro libro libro                         (1.0)\n",
            "\u001b[1m1/1\u001b[0m \u001b[32m━━━━━━━━━━━━━━━━━━━━\u001b[0m\u001b[37m\u001b[0m \u001b[1m0s\u001b[0m 28ms/step\n",
            " quiero leer un libro libro libro                          (1.0)\n",
            "\u001b[1m1/1\u001b[0m \u001b[32m━━━━━━━━━━━━━━━━━━━━\u001b[0m\u001b[37m\u001b[0m \u001b[1m0s\u001b[0m 35ms/step\n",
            " quiero leer un libro libro libro                           (1.0)\n",
            "\u001b[1m1/1\u001b[0m \u001b[32m━━━━━━━━━━━━━━━━━━━━\u001b[0m\u001b[37m\u001b[0m \u001b[1m0s\u001b[0m 33ms/step\n",
            " quiero leer un libro libro libro                            (1.0)\n",
            "\u001b[1m1/1\u001b[0m \u001b[32m━━━━━━━━━━━━━━━━━━━━\u001b[0m\u001b[37m\u001b[0m \u001b[1m0s\u001b[0m 35ms/step\n",
            " quiero leer un libro libro libro                             (1.0)\n",
            "\u001b[1m1/1\u001b[0m \u001b[32m━━━━━━━━━━━━━━━━━━━━\u001b[0m\u001b[37m\u001b[0m \u001b[1m0s\u001b[0m 30ms/step\n",
            " quiero leer un libro libro libro                              (1.0)\n",
            "\u001b[1m1/1\u001b[0m \u001b[32m━━━━━━━━━━━━━━━━━━━━\u001b[0m\u001b[37m\u001b[0m \u001b[1m0s\u001b[0m 40ms/step\n",
            " quiero leer un libro libro libro                               (1.0)\n",
            "\u001b[1m1/1\u001b[0m \u001b[32m━━━━━━━━━━━━━━━━━━━━\u001b[0m\u001b[37m\u001b[0m \u001b[1m0s\u001b[0m 34ms/step\n",
            " quiero leer un libro libro libro                                (1.0)\n",
            "\u001b[1m1/1\u001b[0m \u001b[32m━━━━━━━━━━━━━━━━━━━━\u001b[0m\u001b[37m\u001b[0m \u001b[1m0s\u001b[0m 35ms/step\n",
            " quiero leer un libro libro libro                                 (1.0)\n",
            "\u001b[1m1/1\u001b[0m \u001b[32m━━━━━━━━━━━━━━━━━━━━\u001b[0m\u001b[37m\u001b[0m \u001b[1m0s\u001b[0m 39ms/step\n",
            " quiero leer un libro libro libro                                  (1.0)\n",
            "\u001b[1m1/1\u001b[0m \u001b[32m━━━━━━━━━━━━━━━━━━━━\u001b[0m\u001b[37m\u001b[0m \u001b[1m0s\u001b[0m 21ms/step\n",
            " quiero leer un libro libro libro                                   (1.0)\n",
            "\u001b[1m1/1\u001b[0m \u001b[32m━━━━━━━━━━━━━━━━━━━━\u001b[0m\u001b[37m\u001b[0m \u001b[1m0s\u001b[0m 21ms/step\n",
            " quiero leer un libro libro libro                                    (1.0)\n",
            "\u001b[1m1/1\u001b[0m \u001b[32m━━━━━━━━━━━━━━━━━━━━\u001b[0m\u001b[37m\u001b[0m \u001b[1m0s\u001b[0m 18ms/step\n",
            " quiero leer un libro libro libro                                     (1.0)\n",
            "\u001b[1m1/1\u001b[0m \u001b[32m━━━━━━━━━━━━━━━━━━━━\u001b[0m\u001b[37m\u001b[0m \u001b[1m0s\u001b[0m 18ms/step\n",
            " quiero leer un libro libro libro                                      (1.0)\n",
            "\u001b[1m1/1\u001b[0m \u001b[32m━━━━━━━━━━━━━━━━━━━━\u001b[0m\u001b[37m\u001b[0m \u001b[1m0s\u001b[0m 18ms/step\n",
            " quiero leer un libro libro libro                                       (1.0)\n",
            "\u001b[1m1/1\u001b[0m \u001b[32m━━━━━━━━━━━━━━━━━━━━\u001b[0m\u001b[37m\u001b[0m \u001b[1m0s\u001b[0m 20ms/step\n",
            " quiero leer un libro libro libro                                        (1.0)\n",
            "\u001b[1m1/1\u001b[0m \u001b[32m━━━━━━━━━━━━━━━━━━━━\u001b[0m\u001b[37m\u001b[0m \u001b[1m0s\u001b[0m 17ms/step\n",
            " quiero leer un libro libro libro                                         (1.0)\n",
            "\u001b[1m1/1\u001b[0m \u001b[32m━━━━━━━━━━━━━━━━━━━━\u001b[0m\u001b[37m\u001b[0m \u001b[1m0s\u001b[0m 18ms/step\n",
            " quiero leer un libro libro libro                                          (1.0)\n",
            "\u001b[1m1/1\u001b[0m \u001b[32m━━━━━━━━━━━━━━━━━━━━\u001b[0m\u001b[37m\u001b[0m \u001b[1m0s\u001b[0m 23ms/step\n",
            " quiero leer un libro libro libro                                           (1.0)\n",
            "\u001b[1m1/1\u001b[0m \u001b[32m━━━━━━━━━━━━━━━━━━━━\u001b[0m\u001b[37m\u001b[0m \u001b[1m0s\u001b[0m 25ms/step\n",
            " quiero leer un libro libro libro                                            (1.0)\n"
          ]
        },
        {
          "data": {
            "application/vnd.google.colaboratory.intrinsic+json": {
              "type": "string"
            },
            "text/plain": [
              "'quiero leer un libro libro libro'"
            ]
          },
          "execution_count": 97,
          "metadata": {},
          "output_type": "execute_result"
        }
      ],
      "source": [
        "translate_bidirectional(\"I want to read an old book.\")"
      ]
    },
    {
      "cell_type": "code",
      "execution_count": 103,
      "metadata": {
        "colab": {
          "base_uri": "https://localhost:8080/",
          "height": 226
        },
        "id": "XVFvEw4dyuE-",
        "outputId": "c8018d4f-f185-48a2-8a05-5a3f14453ca8"
      },
      "outputs": [
        {
          "name": "stdout",
          "output_type": "stream",
          "text": [
            "\u001b[1m1/1\u001b[0m \u001b[32m━━━━━━━━━━━━━━━━━━━━\u001b[0m\u001b[37m\u001b[0m \u001b[1m0s\u001b[0m 83ms/step\n",
            " quiero(0.995)\n",
            "\u001b[1m1/1\u001b[0m \u001b[32m━━━━━━━━━━━━━━━━━━━━\u001b[0m\u001b[37m\u001b[0m \u001b[1m0s\u001b[0m 35ms/step\n",
            " quiero leer(0.833)\n",
            "\u001b[1m1/1\u001b[0m \u001b[32m━━━━━━━━━━━━━━━━━━━━\u001b[0m\u001b[37m\u001b[0m \u001b[1m0s\u001b[0m 34ms/step\n",
            " quiero leer un(0.531)\n",
            "\u001b[1m1/1\u001b[0m \u001b[32m━━━━━━━━━━━━━━━━━━━━\u001b[0m\u001b[37m\u001b[0m \u001b[1m0s\u001b[0m 86ms/step\n",
            " quiero leer un libro(0.815)\n",
            "\u001b[1m1/1\u001b[0m \u001b[32m━━━━━━━━━━━━━━━━━━━━\u001b[0m\u001b[37m\u001b[0m \u001b[1m0s\u001b[0m 49ms/step\n",
            " quiero leer un libro libro(0.985)\n",
            "\u001b[1m1/1\u001b[0m \u001b[32m━━━━━━━━━━━━━━━━━━━━\u001b[0m\u001b[37m\u001b[0m \u001b[1m0s\u001b[0m 38ms/step\n"
          ]
        },
        {
          "data": {
            "application/vnd.google.colaboratory.intrinsic+json": {
              "type": "string"
            },
            "text/plain": [
              "'quiero leer un libro libro'"
            ]
          },
          "execution_count": 103,
          "metadata": {},
          "output_type": "execute_result"
        }
      ],
      "source": [
        "translate(\"I want to read an old book.\")"
      ]
    },
    {
      "cell_type": "markdown",
      "metadata": {
        "id": "CzKUaOHortMc"
      },
      "source": [
        "## Beam Search"
      ]
    },
    {
      "cell_type": "markdown",
      "metadata": {
        "id": "ZDpeeJ1ArtMc"
      },
      "source": [
        "This is a very basic implementation of beam search. I tried to make it readable and understandable, but it's definitely not optimized for speed! The function first uses the model to find the top _k_ words to start the translations (where _k_ is the beam width). For each of the top _k_ translations, it evaluates the conditional probabilities of all possible words it could add to that translation. These extended translations and their probabilities are added to the list of candidates. Once we've gone through all top _k_ translations and all words that could complete them, we keep only the top _k_ candidates with the highest probability, and we iterate over and over until they all finish with an EOS token. The top translation is then returned (after removing its EOS token).\n",
        "\n",
        "* Note: If p(S) is the probability of sentence S, and p(W|S) is the conditional probability of the word W given that the translation starts with S, then the probability of the sentence S' = concat(S, W) is p(S') = p(S) * p(W|S). As we add more words, the probability gets smaller and smaller. To avoid the risk of it getting too small, which could cause floating point precision errors, the function keeps track of log probabilities instead of probabilities: recall that log(a\\*b) = log(a) + log(b), therefore log(p(S')) = log(p(S)) + log(p(W|S))."
      ]
    },
    {
      "cell_type": "code",
      "execution_count": 6,
      "metadata": {
        "id": "QQm-RZ8urtMc"
      },
      "outputs": [],
      "source": [
        "# extra code – a basic implementation of beam search\n",
        "\n",
        "def beam_search(sentence_en, beam_width, verbose=False):\n",
        "    X = np.array([sentence_en])  # encoder input\n",
        "    X_dec = np.array([\"startofseq\"])  # decoder input\n",
        "    y_proba = model.predict((X.astype(object), X_dec.astype(object)))[0, 0]  # first token's probas\n",
        "    top_k = tf.math.top_k(y_proba, k=beam_width)\n",
        "    top_translations = [  # list of best (log_proba, translation)\n",
        "        (np.log(word_proba), text_vec_layer_es.get_vocabulary()[word_id])\n",
        "        for word_proba, word_id in zip(top_k.values, top_k.indices)\n",
        "    ]\n",
        "\n",
        "    # extra code – displays the top first words in verbose mode\n",
        "    if verbose:\n",
        "        print(\"Top first words:\", top_translations)\n",
        "\n",
        "    for idx in range(1, max_length):\n",
        "        candidates = []\n",
        "        for log_proba, translation in top_translations:\n",
        "            if translation.endswith(\"endofseq\"):\n",
        "                candidates.append((log_proba, translation))\n",
        "                continue  # translation is finished, so don't try to extend it\n",
        "            X = np.array([sentence_en])  # encoder input\n",
        "            X_dec = np.array([\"startofseq \" + translation])  # decoder input\n",
        "            y_proba = model.predict((X.astype(object), X_dec.astype(object)))[0, idx]  # last token's proba\n",
        "            for word_id, word_proba in enumerate(y_proba):\n",
        "                word = text_vec_layer_es.get_vocabulary()[word_id]\n",
        "                candidates.append((log_proba + np.log(word_proba),\n",
        "                                   f\"{translation} {word}\"))\n",
        "        top_translations = sorted(candidates, reverse=True)[:beam_width]\n",
        "\n",
        "        # extra code – displays the top translation so far in verbose mode\n",
        "        if verbose:\n",
        "            print(\"Top translations so far:\", top_translations)\n",
        "\n",
        "        if all([tr.endswith(\"endofseq\") for _, tr in top_translations]):\n",
        "            return top_translations[0][1].replace(\"endofseq\", \"\").strip()"
      ]
    },
    {
      "cell_type": "code",
      "execution_count": 107,
      "metadata": {
        "colab": {
          "base_uri": "https://localhost:8080/",
          "height": 261
        },
        "id": "jndVFH6qrtMd",
        "outputId": "814e352d-40e7-4c1c-9c91-73b2b0062618"
      },
      "outputs": [
        {
          "name": "stdout",
          "output_type": "stream",
          "text": [
            "\u001b[1m1/1\u001b[0m \u001b[32m━━━━━━━━━━━━━━━━━━━━\u001b[0m\u001b[37m\u001b[0m \u001b[1m0s\u001b[0m 21ms/step\n",
            " me(0.292)\n",
            "\u001b[1m1/1\u001b[0m \u001b[32m━━━━━━━━━━━━━━━━━━━━\u001b[0m\u001b[37m\u001b[0m \u001b[1m0s\u001b[0m 19ms/step\n",
            " me gustan(0.711)\n",
            "\u001b[1m1/1\u001b[0m \u001b[32m━━━━━━━━━━━━━━━━━━━━\u001b[0m\u001b[37m\u001b[0m \u001b[1m0s\u001b[0m 19ms/step\n",
            " me gustan los(0.98)\n",
            "\u001b[1m1/1\u001b[0m \u001b[32m━━━━━━━━━━━━━━━━━━━━\u001b[0m\u001b[37m\u001b[0m \u001b[1m0s\u001b[0m 19ms/step\n",
            " me gustan los los(0.981)\n",
            "\u001b[1m1/1\u001b[0m \u001b[32m━━━━━━━━━━━━━━━━━━━━\u001b[0m\u001b[37m\u001b[0m \u001b[1m0s\u001b[0m 20ms/step\n",
            " me gustan los los gatos(0.608)\n",
            "\u001b[1m1/1\u001b[0m \u001b[32m━━━━━━━━━━━━━━━━━━━━\u001b[0m\u001b[37m\u001b[0m \u001b[1m0s\u001b[0m 19ms/step\n",
            " me gustan los los gatos los(0.717)\n",
            "\u001b[1m1/1\u001b[0m \u001b[32m━━━━━━━━━━━━━━━━━━━━\u001b[0m\u001b[37m\u001b[0m \u001b[1m0s\u001b[0m 23ms/step\n"
          ]
        },
        {
          "data": {
            "application/vnd.google.colaboratory.intrinsic+json": {
              "type": "string"
            },
            "text/plain": [
              "'me gustan los los gatos los'"
            ]
          },
          "execution_count": 107,
          "metadata": {},
          "output_type": "execute_result"
        }
      ],
      "source": [
        "# extra code – shows how the model making an error\n",
        "sentence_en = \"I love cats and dogs\"\n",
        "translate(sentence_en)"
      ]
    },
    {
      "cell_type": "markdown",
      "metadata": {
        "id": "HHZA7cMKrtMd"
      },
      "source": [
        "The correct translation is in the top 3 sentences found by beam search, but it's not the first. Since we're using a small vocabulary, the \\[UNK] token is quite frequent, so you may want to penalize it (e.g., divide its probability by 2 in the beam search function): this will discourage beam search from using it too much."
      ]
    },
    {
      "cell_type": "markdown",
      "metadata": {
        "id": "zNF-QP37rtMd"
      },
      "source": [
        "## Mecanismos de Atencion (Attention mechanisms)"
      ]
    },
    {
      "cell_type": "markdown",
      "metadata": {
        "id": "52TxgFCRrtMd"
      },
      "source": [
        "Como mejora a este tipo de arquitecturas, en 2014 (Dzmitry Bahdanau y colegas, et al. que se dice) introdujeron una mejora sustancial a la arquitectura de Encoder-Decoders.\n",
        "\n",
        "La idea detrás del mecanismo es pasarle al decoder más información de la secuencia de entrada y no sólo los estados ocultos producidos por el último elemento (el primero y el úlitmo en el caso de bidireccionales). ¿Qué información? Pues algo así como la palabra que más le aporte en cada momento. Por ejemplo que cuando al decoder le toque producir fútbol en la traducción de I like soccer, reciba \"soccer\" (en concreto la salida del enconder a la palabra \"soccer\").  \n",
        "\n",
        "Supongamos que estamos traduciendo frases como:\n",
        "\n",
        "I like soccer  \n",
        "I like Rain Man  \n",
        "you like The Bridge  \n",
        "we like Marta  \n",
        "  \n",
        "Para los dos primeras el decoder iría traduciendo:\n",
        "(Me) gusta ... y la idea es que las entradas \"soccer\", \"Rain\" + \"Man\", \"The\" + \"Bridge\", \"Marta\" aporten más en ese instante...  \n",
        "\n",
        "Entonces al decoder tendré que pasarle todas las palabras de la frase (en concreto la salida de cada una de estas del encoder) y que exista un mecanismo que le diga en función de lo que lleva cuál de las entradas debe considerar más (aquí nos fijamos en la siguiente, pero para traducir \"Me\" es mejor que se fije en la primera, el pronombre, para traducir \"gusta\", igual)  \n",
        "\n",
        "Lo interesante no es considerar solo una palabra de entrada, sino una combinación pesada de estas (una combinación lineal -> \"The\" + \"Bridge\")\n",
        "\n",
        "Es decir, volviendo a nuestras entradas del decoder:\n",
        "\n",
        "* Antes d1: [h(e2),c(2),emb(\"<start_of_sequence>\")], ahora da1 (la a es de attention): [h(e2),c(e2), (coef1 * e1 + coef2 * e2 + coef3 * e3)] y probablemente todos los coef se aproximarían a cero\n",
        "* Antes d2: [emb(\"Me\"),$h_d$(d1),$c_d$(d1)], ahora da2: [emb(\"Me\"),$h_d$(d1),$c_d$(d1), (coef21 * e1 + coef22 * e2 + coef23 * e3)] y probablemente coef21 >> coef22 y coef23\n",
        "* Antes d3: [emb(\"gusta\"),$h_d$(d2),$c_d$(d2)], ahora da3: [emb(\"gusta\"),$h_d$(d1),$c_d$(d1), (coef31 * e1 + coef32 * e2 + coef33 * e3) ] y coef31 y coef32 serán altos y coef33 bajo o nulo\n",
        "\n",
        "\n",
        "__¿Y cómo le digo en cuál debe fijarse más? Pues como en los embeddings... que lo aprenda :-) (o sea tendré una Attention Layer)__\n"
      ]
    },
    {
      "cell_type": "markdown",
      "metadata": {
        "id": "TSJSezrertMd"
      },
      "source": [
        "Muy bien, y cómo se hace ese \"que lo aprenda\": Dos mecanismos de Atencion (aditiva y multiplicativa), pero el multiplicativo ha superado al aditivo y de hecho la Attention Layer de keras hace Attention multiplicativa y además al final la predicción se hace a partir de la salida de la capa de atención.\n",
        "\n",
        "Gráficamente:\n",
        "\n",
        "<img src=\"https://github.com/Jaimegrp/Practicando/blob/main/Texto/img/encoder_decoder_with_attention.jpg?raw=1\" alt=\"Encoder_Decoder with Attention\" width=\"700\" />\n",
        "\n",
        "\n",
        "Intuitivamente al poner la capa de atención al final está configurando toda la red (toda incluidos los embeddings) para que \"memorice\" la relación estadística entre las posiciones de salida y las de entrada en diferentes situaciones. Y luego ya nosotros a eso le llamamos atención, porque es verdad que cuando llega el momento de \"Me gusta el...\", ha memorizado que las posiciones que deben aportar más es donde haya salidas que generalmente pertenecen a nombres. (pero él ni sabe que son nombres, ni que está traduciendo ni nada,...)\n",
        "\n",
        "\n",
        "El siguiente paso sería aumentar la memoria y olvidarse de las recurrencias (y del problema de traducir) :-)... los Transformers, pero antes... prestémosle Atención al traductor con atención"
      ]
    },
    {
      "cell_type": "markdown",
      "metadata": {
        "id": "L5v4cs87rtMe"
      },
      "source": [
        "And finally, let's add the `Attention` layer and the output layer:"
      ]
    },
    {
      "cell_type": "markdown",
      "metadata": {
        "id": "qx3jPpJOrtMf"
      },
      "source": [
        "## Y sí, la solución es simple y llanamente establecer relacion los elementos de la secuencia entre sí.... ***Attention Is All You Need: The Transformer Architecture***\n"
      ]
    },
    {
      "cell_type": "markdown",
      "metadata": {
        "id": "eghXhvLprtMf"
      },
      "source": [
        "Y en 2017, alguien de una empresa..., publicó un paper en el que se presentaba en sociedad una arquitectura que sólo necesitaba de mecanismos de Atenttion y capas Densas para hacer NMT como el mejor.\n",
        "\n",
        "OJO, esta sección es a título ilustrativo... Pero molón.\n",
        "Si quieres saber más cuando tengas más tiempo, te recomiendo esta referencia [https://kikaben.com/transformers-encoder-decoder/].\n",
        "\n",
        "<img src=\"https://github.com/Jaimegrp/Practicando/blob/main/Texto/img/transformers.webp?raw=1\" alt=\"Encoder_Decoder with Attention\" width=\"700\" />\n",
        "\n"
      ]
    },
    {
      "cell_type": "markdown",
      "metadata": {
        "id": "snQivuXHrtMf"
      },
      "source": [
        "Antes de asustarse, lo que realmente hace esta arquitectura es ser las superconvolucional con memoria de las secuencias de texto... Vamos por partes:\n",
        "\n",
        "__La parte del encoder__ al incluir el mecanismo de atención (y ese positional encoding) lo que está haciendo es aprender las relaciones posicionales de las palabras del \"lenguaje\" de entrada (sí está memorizando y caracterizando las relaciones entre todas las palabras y sus posiciones de entrada), está haciendo un embedding de la información posicional. Luego concatena la información posicional con la de entrada y aprende a relacionarla lo mejor posible para esa secuencia. En tiempo de inferencia diríamos que para cada secuencia está analizandola sintácticamente, gramaticalmente, etc, etc y luego la devuelve... Pero nunca le hemos pasado información ni sintáctica, ni gramatical, ni nada.\n",
        "\n",
        "__La parte del decoder__ primero hace lo mismo que el encoder pero con el \"lenguaje\" de destino, se aprende y caracteriza todas las relaciones posicionales de las sentencias de ese \"lenguaje\". Combina ese embedding por secuencia con la secuencia de destino y se lo pasa a la siguiente capa de atención que ahora memoriza y caracteriza todas las relaciones posicionales entre las sentencias procesadas y enriquecidas del lenguaje destino y las sentencias procesadas y enriquecidas del lenguaje de origen. Y luego el feedfoward es el que realmente mezcla todo (mezclará toda la información de la secuencia, vease que se va transmitiendo, las posiciones y las posiciones con el lenguaje origen).\n",
        "\n",
        "Para aumentar la memoria y dar más relaciones lo que hacemos es que la capa de atención en realidad son muchas capas de atención en paralelo y acumular modulos de atención (como acumulábamos capas convolucionales en una red convolucional)"
      ]
    },
    {
      "cell_type": "markdown",
      "metadata": {
        "id": "gl91Sdu4rtMf"
      },
      "source": [
        "A título ilustrativo un __capa multihead de atención__:\n",
        "\n",
        "<img src=\"https://github.com/Jaimegrp/Practicando/blob/main/Texto/img/multihead_attention.png?raw=1\" alt=\"Multihead Attention Layer\" width=\"700\" />"
      ]
    },
    {
      "cell_type": "markdown",
      "metadata": {
        "id": "uh_6C3mWrtMf"
      },
      "source": [
        "Las capas linear son capas densas sin función de activación, tienen pesos entrenables -> Memoria (en estos pesos está la memoria de las características posicionales)\n",
        "Y las capas head fuerzan que las linear (tantas como cabezas*3) aprendan un número de relaciones \"poscionales\" que dependen del número de cabezas (si quiero que apredan más relaciones posicionales -> Más cabezas)\n",
        "\n"
      ]
    },
    {
      "cell_type": "markdown",
      "metadata": {
        "id": "Zna3md12rtMf"
      },
      "source": [
        "Y para terminar hay N modulos (en el paper de 2017, 6 por Encoder y 6 por Decoder) apilados, ¿por qué? Aquí una idea intuitiva es la misma que en las convolucionales, para que pueda memorizar relaciones posicionales más complicadas (y tener más memoria entrenable)."
      ]
    },
    {
      "cell_type": "markdown",
      "metadata": {
        "id": "-3ar9UqqrtMf"
      },
      "source": [
        "## Large Language Models (Pretrained Transformers)"
      ]
    },
    {
      "cell_type": "markdown",
      "metadata": {
        "id": "Yt8wIErgrtMf"
      },
      "source": [
        "Y en 2018, llegaron las arquitecturas que apilaban multihead attention layers pero ya olvidándose de decoders y encoders... Una sola columna con muchos módulos... pero con la magia de estar pre-entrenadas para una tarea (generalmente adivina cuál es la siguiente palabra de la sentencia (GPT) o de cada sentencia te voy a ocultar 2 palabras, adivina cuales son (BERT)).\n",
        "\n",
        "En esencia, están memorizando todas las relaciones que existen entre las palabras de un lenguaje... Por eso cada vez se hacen más grandes (para memorizar más) y tienen más parámetros... y necesitan más que les des de comer (si quieres tenerlo todo representado)... (Imagina que le pudieras dar para entrenar a un red convolucional todas las imágenes posibles que existen)\n",
        "\n",
        "<img src=\"https://github.com/Jaimegrp/Practicando/blob/main/Texto/img/gpt2_vs_BERT.jpg?raw=1\" alt=\"Multihead Attention Layer\" width=\"800\" />\n",
        "\n",
        "Luego estos modelos preentrenados se adaptan (fine-tunning), o sea, se hace transfer learning, a otros tipos de problemas (clasificación, sentiment analysis, question and answers, y ahora chats, texto generativo).\n",
        "\n",
        "\n",
        "\n"
      ]
    },
    {
      "cell_type": "markdown",
      "metadata": {
        "id": "mOi7vkFOAClz"
      },
      "source": [
        "## Instruct LLM"
      ]
    },
    {
      "cell_type": "markdown",
      "metadata": {
        "id": "B_8qCUXkAE_r"
      },
      "source": [
        "Hoy en día, lo que realmente se ha puesto \"de moda\" no es emplear los LLM como los vistos hasta ahora, sino los fine-tuned y más concretamente los basados en una aproximación denominada \"Instruct LLM\" (partiendo de un paper de OpenAI):"
      ]
    },
    {
      "cell_type": "markdown",
      "metadata": {
        "id": "8yY38EYRAbDw"
      },
      "source": [
        "<img src=\"https://github.com/Jaimegrp/Practicando/blob/main/Texto/img/rlhf.jpg?raw=1\" alt=\"Instruct LLM\" width=\"800\" />"
      ]
    },
    {
      "cell_type": "markdown",
      "metadata": {
        "id": "rrzskW7CrtMg"
      },
      "source": [
        "Han surgido decenas de modelos, propietarios y abiertos, los más destacados (que puedes usar):  \n",
        "[OpenAI, ChatGPT](https://chat.openai.com/)  \n",
        "[Google, Gemini](https://gemini.google.com/?hl=es)  \n",
        "[Mistral, Mistral MoE](https://mistral.ai/)  \n",
        "[Meta, Llama-2](https://ai.meta.com/blog/5-steps-to-getting-started-with-llama-2/)  \n",
        "[Hugging Face, miles y miles de modelos](https://huggingface.co/spaces/HuggingFaceH4/open_llm_leaderboard)  \n",
        "[Preplexity AI, integra GPT-4 y Claude (no accesible directamente en España](https://www.perplexity.ai/)"
      ]
    },
    {
      "cell_type": "markdown",
      "metadata": {
        "id": "uaczsP3-AHDx"
      },
      "source": [
        "### Curiosidades y simlitudes"
      ]
    },
    {
      "cell_type": "markdown",
      "metadata": {
        "id": "vEa5hcGfrtMg"
      },
      "source": [
        "Veamos algunas cosas curiosas:\n"
      ]
    },
    {
      "cell_type": "code",
      "execution_count": null,
      "metadata": {
        "id": "i2yCjWSA9mD0"
      },
      "outputs": [],
      "source": [
        "import pyperclip"
      ]
    },
    {
      "cell_type": "code",
      "execution_count": null,
      "metadata": {
        "id": "dIVTtMEH8jQT"
      },
      "outputs": [],
      "source": [
        "prompt = \"Dame una lista de los siete mejores arquitectos de la historia o por lo menos de los más famosos y dame un ejemplo de sus mejores obras o de las más conocidas\" #@param {type:\"string\"}"
      ]
    },
    {
      "cell_type": "code",
      "execution_count": null,
      "metadata": {
        "id": "x1EKhHry9Rso"
      },
      "outputs": [],
      "source": [
        "new_prompt = []\n",
        "for token in prompt.split():\n",
        "  new_token = \"\"\n",
        "  if len(token) > 3:\n",
        "    new_token = token[0:2] + token[3:]\n",
        "  else:\n",
        "    new_token = token\n",
        "  new_prompt.append(new_token)\n",
        "print(\" \".join(new_prompt))"
      ]
    },
    {
      "cell_type": "code",
      "execution_count": null,
      "metadata": {
        "id": "EX9qBfO3_TOu"
      },
      "outputs": [],
      "source": [
        "new_prompt = prompt.split()[::-1]\n",
        "print(\" \".join(new_prompt))"
      ]
    }
  ],
  "metadata": {
    "colab": {
      "provenance": []
    },
    "kernelspec": {
      "display_name": "Python 3",
      "name": "python3"
    },
    "language_info": {
      "codemirror_mode": {
        "name": "ipython",
        "version": 3
      },
      "file_extension": ".py",
      "mimetype": "text/x-python",
      "name": "python",
      "nbconvert_exporter": "python",
      "pygments_lexer": "ipython3",
      "version": "3.12.3"
    }
  },
  "nbformat": 4,
  "nbformat_minor": 0
}
